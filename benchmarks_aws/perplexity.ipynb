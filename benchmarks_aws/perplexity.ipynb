{
 "cells": [
  {
   "cell_type": "code",
   "execution_count": 1,
   "metadata": {},
   "outputs": [],
   "source": [
    "import torch\n",
    "from datasets import load_dataset\n",
    "from transformers import (\n",
    "    AutoModelForCausalLM,\n",
    "    AutoTokenizer,\n",
    "    BitsAndBytesConfig,\n",
    ")"
   ]
  },
  {
   "cell_type": "code",
   "execution_count": 2,
   "metadata": {},
   "outputs": [
    {
     "name": "stdout",
     "output_type": "stream",
     "text": [
      "\n",
      "===================================BUG REPORT===================================\n",
      "Welcome to bitsandbytes. For bug reports, please run\n",
      "\n",
      "python -m bitsandbytes\n",
      "\n",
      " and submit this information together with your error trace to: https://github.com/TimDettmers/bitsandbytes/issues\n",
      "================================================================================\n",
      "bin /opt/conda/envs/mytorch/lib/python3.10/site-packages/bitsandbytes/libbitsandbytes_cuda118.so\n",
      "CUDA SETUP: CUDA runtime path found: /usr/local/cuda/lib64/libcudart.so\n",
      "CUDA SETUP: Highest compute capability among GPUs detected: 8.6\n",
      "CUDA SETUP: Detected CUDA version 118\n",
      "CUDA SETUP: Loading binary /opt/conda/envs/mytorch/lib/python3.10/site-packages/bitsandbytes/libbitsandbytes_cuda118.so...\n"
     ]
    },
    {
     "name": "stderr",
     "output_type": "stream",
     "text": [
      "/opt/conda/envs/mytorch/lib/python3.10/site-packages/bitsandbytes/cuda_setup/main.py:149: UserWarning: /opt/conda/envs/mytorch did not contain ['libcudart.so', 'libcudart.so.11.0', 'libcudart.so.12.0'] as expected! Searching further paths...\n",
      "  warn(msg)\n"
     ]
    },
    {
     "data": {
      "application/vnd.jupyter.widget-view+json": {
       "model_id": "4e7118fff8bb4b5a8d63be1e4ad1a3d8",
       "version_major": 2,
       "version_minor": 0
      },
      "text/plain": [
       "Loading checkpoint shards:   0%|          | 0/7 [00:00<?, ?it/s]"
      ]
     },
     "metadata": {},
     "output_type": "display_data"
    }
   ],
   "source": [
    "# model_name = \"/data/opt-350m\"\n",
    "# model_name = \"/data/llama-hf/Llama-2-13b-hf\"\n",
    "# model_name = \"/data/Mistral-7B-Instruct-v0.2\"\n",
    "# model_name = \"mistralai/Mistral-7B-v0.1\"\n",
    "# model_name = \"codellama/CodeLlama-13b-Python-hf\"\n",
    "model_name = \"bigcode/starcoder\"\n",
    "\n",
    "bnb_config = BitsAndBytesConfig(\n",
    "    load_in_4bit=True,\n",
    "    bnb_4bit_quant_type=\"nf4\",\n",
    "    bnb_4bit_compute_dtype=torch.bfloat16,\n",
    "    bnb_4bit_use_double_quant=True,\n",
    ")\n",
    "device_map = {\"\": 0}\n",
    "# Load model\n",
    "model = AutoModelForCausalLM.from_pretrained(\n",
    "    model_name,\n",
    "    quantization_config=bnb_config,\n",
    "    device_map=device_map\n",
    ")\n",
    "model.eval()\n",
    "\n",
    "model.config.use_cache = False\n",
    "model.config.pretraining_tp = 1\n",
    "\n",
    "\n"
   ]
  },
  {
   "cell_type": "code",
   "execution_count": 3,
   "metadata": {},
   "outputs": [
    {
     "name": "stdout",
     "output_type": "stream",
     "text": [
      "pre-trained model's BOS EOS and PAD token id: 0 0 None  => It should be 1 2 None\n"
     ]
    }
   ],
   "source": [
    "# Load tokenizer\n",
    "tokenizer = AutoTokenizer.from_pretrained(model_name, trust_remote_code=True)\n",
    "# if \"Llama-2\" in model_name or \"Mistral\" in model_name:\n",
    "# tokenizer.pad_token = tokenizer.bos_token\n",
    "\n",
    "bos = tokenizer.bos_token_id\n",
    "eos = tokenizer.eos_token_id\n",
    "pad = tokenizer.pad_token_id\n",
    "print(\"pre-trained model's BOS EOS and PAD token id:\",bos,eos,pad,\" => It should be 1 2 None\")\n",
    "\n",
    "tokenizer.pad_token_id = 1  # unk. we want this to be different from the eos token\n",
    "tokenizer.padding_side = \"right\""
   ]
  },
  {
   "cell_type": "code",
   "execution_count": 5,
   "metadata": {},
   "outputs": [
    {
     "name": "stdout",
     "output_type": "stream",
     "text": [
      "3.9051830768585205\n"
     ]
    }
   ],
   "source": [
    "# prompt = \"beautiful scenery!\"\n",
    "prompt = \"ABC is a startup based in New York City and Paris\"\n",
    "# prompt = \"\"\"from qiskit import QuantumCircuit\n",
    " \n",
    "# qc = QuantumCircuit(5)\n",
    "# qc.h(0)\n",
    "# qc.cx(0, range(1, 5))\n",
    "# qc.measure_all()\n",
    "# \"\"\"\n",
    "\n",
    "prompt =  \"\"\"import cudaq\n",
    "\n",
    "kernel = cudaq.make_kernel()\n",
    "qubits = kernel.qalloc(5)\n",
    "kernel.h(qubits[0])\n",
    "kernel.cx(qubits[0],qubits[1:5])\n",
    "kernel.mz(qubits)\n",
    "\"\"\"\n",
    "\n",
    "input_ids = tokenizer(prompt, return_tensors=\"pt\")[\"input_ids\"].to(\"cuda\")\n",
    "\n",
    "with torch.no_grad():\n",
    "    loss = model(input_ids = input_ids, labels = input_ids).loss.cpu()\n",
    "    # perp = torch.exp(loss.item())\n",
    "perp = torch.exp(torch.tensor(loss.item()))\n",
    "print(f\"{perp.item()}\")\n",
    "# output = model(input_ids)\n",
    "# output = output.logits.squeeze().to(\"cpu\")\n",
    "# probs = torch.softmax(output, dim = -1)\n",
    "# context_size = input_ids.shape[1]\n",
    "# loss = -torch.mean(torch.log(probs[torch.arange(context_size-1),input_ids[0,1:].cpu()]))\n",
    "\n",
    "# print(loss_hf, loss)\n",
    "# perp = torch.exp(-torch.mean(torch.log(probs[torch.arange(context_size-1),input_ids[0,1:].cpu()]))  ).item()\n"
   ]
  },
  {
   "cell_type": "code",
   "execution_count": 23,
   "metadata": {},
   "outputs": [
    {
     "name": "stdout",
     "output_type": "stream",
     "text": [
      "tensor(2.6205)\n"
     ]
    }
   ],
   "source": [
    "print(torch.exp(torch.tensor(loss.item())))"
   ]
  },
  {
   "cell_type": "code",
   "execution_count": null,
   "metadata": {},
   "outputs": [],
   "source": [
    "from qiskit import QuantumCircuit\n",
    " \n",
    "qc = QuantumCircuit(5)\n",
    "qc.h(0)\n",
    "qc.cx(0, range(1, 5))\n",
    "qc.measure_all()\n",
    "\n",
    "import cudaq\n",
    "\n",
    "kernel = cudaq.make_kernel()\n",
    "qubits = kernel.qalloc(5)\n",
    "kernel.h(qubits[0])\n",
    "kernel.cx(qubits[0],qubits[1:5])\n",
    "kernel.mz(qubits)\n"
   ]
  }
 ],
 "metadata": {
  "kernelspec": {
   "display_name": "mytorch",
   "language": "python",
   "name": "python3"
  },
  "language_info": {
   "codemirror_mode": {
    "name": "ipython",
    "version": 3
   },
   "file_extension": ".py",
   "mimetype": "text/x-python",
   "name": "python",
   "nbconvert_exporter": "python",
   "pygments_lexer": "ipython3",
   "version": "3.10.12"
  },
  "orig_nbformat": 4
 },
 "nbformat": 4,
 "nbformat_minor": 2
}
