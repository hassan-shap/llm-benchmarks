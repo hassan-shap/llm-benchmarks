{
 "cells": [
  {
   "cell_type": "code",
   "execution_count": 1,
   "metadata": {},
   "outputs": [
    {
     "name": "stderr",
     "output_type": "stream",
     "text": [
      "/home/hshapour/.pyenv/versions/3.10.12/envs/pytorch/lib/python3.10/site-packages/tqdm/auto.py:21: TqdmWarning: IProgress not found. Please update jupyter and ipywidgets. See https://ipywidgets.readthedocs.io/en/stable/user_install.html\n",
      "  from .autonotebook import tqdm as notebook_tqdm\n",
      "Downloading builder script: 100%|██████████| 30.7k/30.7k [00:00<00:00, 8.97MB/s]\n",
      "Downloading readme: 100%|██████████| 18.2k/18.2k [00:00<00:00, 6.30MB/s]\n",
      "Downloading data: 100%|██████████| 4.12M/4.12M [00:00<00:00, 76.6MB/s]\n",
      "Generating train split: 100%|██████████| 9427/9427 [00:00<00:00, 20727.12 examples/s]\n",
      "Generating validation split: 100%|██████████| 3270/3270 [00:00<00:00, 20889.15 examples/s]\n",
      "Generating test split: 100%|██████████| 3245/3245 [00:00<00:00, 21592.55 examples/s]\n"
     ]
    }
   ],
   "source": [
    "from datasets import load_dataset, concatenate_datasets\n",
    "import json\n",
    "import torch\n",
    "from datasets.utils.logging import disable_progress_bar,enable_progress_bar\n",
    "\n",
    "dataset_name = \"super_glue\"  # The MMLU dataset name in Hugging Face Datasets\n",
    "dataset = load_dataset(dataset_name, name='boolq')#[\"train\"]\n",
    "# print(dataset)\n",
    "\n",
    "labels = dataset[\"train\"].features[\"label\"]\n",
    "# def create_label_str(batch):\n",
    "#     return {\"label_str\": labels.int2str(batch[\"label\"])}\n",
    "def create_label_str(example):\n",
    "    return {\"label_str\": \"Yes\" if example[\"label\"]== 1 else \"No\"}\n",
    "# print(labels)\n"
   ]
  },
  {
   "cell_type": "code",
   "execution_count": 16,
   "metadata": {},
   "outputs": [
    {
     "name": "stdout",
     "output_type": "stream",
     "text": [
      "Dataset({\n",
      "    features: ['a'],\n",
      "    num_rows: 3\n",
      "})\n"
     ]
    }
   ],
   "source": [
    "from datasets import Dataset\n",
    "my_list = [{\"a\": 1}, {\"a\": 2}, {\"a\": 3}]\n",
    "dataset = Dataset.from_list(my_list)\n",
    "print(dataset)"
   ]
  },
  {
   "cell_type": "code",
   "execution_count": 2,
   "metadata": {},
   "outputs": [
    {
     "name": "stderr",
     "output_type": "stream",
     "text": [
      "Map: 100%|██████████| 9427/9427 [00:00<00:00, 13801.59 examples/s]\n",
      "Map: 100%|██████████| 3270/3270 [00:00<00:00, 13684.01 examples/s]"
     ]
    },
    {
     "name": "stdout",
     "output_type": "stream",
     "text": [
      "5 3270\n"
     ]
    },
    {
     "name": "stderr",
     "output_type": "stream",
     "text": [
      "\n"
     ]
    }
   ],
   "source": [
    "\n",
    "# data_train = dataset[\"train\"].map(create_label_str)   \n",
    "# data_test = dataset[\"validation\"].map(create_label_str)   \n",
    "# # print(d1)\n",
    "# # dd = d1.select(range(5)).shuffle()\n",
    "\n",
    "d1 = dataset[\"train\"].map(create_label_str)   \n",
    "d2 = dataset[\"validation\"].map(create_label_str)   \n",
    "\n",
    "# d_all = concatenate_datasets([d1,d2])\n",
    "data_train = d1.select(range(5))\n",
    "data_test = d2 #.select(range(5,d2.num_rows))\n",
    "\n",
    "print(data_train.num_rows, data_test.num_rows)"
   ]
  },
  {
   "cell_type": "code",
   "execution_count": 3,
   "metadata": {},
   "outputs": [],
   "source": [
    "\n",
    "\n",
    "def json_writer(JSON_PATH, num_qs, n_shot_example,seed=10,space=False):\n",
    "    qlist = {}\n",
    "    # if n_shot_example >0:\n",
    "    #     instruction = 'The following are multiple choice questions (with answers) about  '\n",
    "    # else:\n",
    "    #     instruction = 'The following is a multiple choice question about  '\n",
    "    with open(JSON_PATH, 'w') as json_file:\n",
    "\n",
    "        for ind in range(num_qs):\n",
    "            dd_examples = data_train.select(range(5)).shuffle()\n",
    "            prompt = \"\"#\"Answer the question from the passage with Yes or No.\\n\\n\"\n",
    "            \n",
    "            for idx in range(n_shot_example):\n",
    "                prompt += \"Answer the question from the passage with Yes or No.\\n\\n\"\n",
    "                prompt += \"Passage: \" + dd_examples[idx]['passage'] + '\\n'\n",
    "                prompt += \"Question: \" + dd_examples[idx]['question'] + '\\n'\n",
    "                prompt += \"Answer:\" + dd_examples[idx]['label_str'] + '\\n\\n'\n",
    "\n",
    "            prompt += \"Answer the question from the passage with Yes or No.\\n\\n\"\n",
    "            prompt += \"Passage: \" + data_test[ind]['passage'] + '\\n'\n",
    "            prompt += \"Question: \" + data_test[ind]['question'] + '\\n'\n",
    "            prompt += \"Answer:\" \n",
    "    \n",
    "            \n",
    "            qlist['input'] = prompt\n",
    "            qlist['target_str'] = data_test[ind]['label_str']\n",
    "            qlist['target'] = data_test[ind]['label']\n",
    "\n",
    "            # Serializing json\n",
    "            json_file.write(json.dumps(qlist) + '\\n')\n",
    "        # print(\"Done!\")"
   ]
  },
  {
   "cell_type": "code",
   "execution_count": 4,
   "metadata": {},
   "outputs": [
    {
     "name": "stdout",
     "output_type": "stream",
     "text": [
      "0-shot example is being generated...\n",
      "1-shot example is being generated...\n",
      "2-shot example is being generated...\n",
      "3-shot example is being generated...\n",
      "4-shot example is being generated...\n",
      "5-shot example is being generated...\n"
     ]
    }
   ],
   "source": [
    "disable_progress_bar()\n",
    "\n",
    "# print(example_idx)\n",
    "n_example = data_test.num_rows\n",
    "n_shot_vals = [2]\n",
    "seed = 123\n",
    "for n_shot in range(6):\n",
    "# for n_shot in n_shot_vals:\n",
    "    print(f\"{n_shot}-shot example is being generated...\")\n",
    "    fname_json = f\"boolq-data/{n_shot}_shot_examples.json\"\n",
    "    # fname_json = f\"boolq-data/{n_shot}_shot_examples_small.json\"\n",
    "    # JSON_eval = 'sample_eval.json'\n",
    "    json_writer(fname_json, n_example, n_shot, seed=seed, space= False)\n",
    "    # json_writer(JSON_eval,example_idx[(n_shot_example+1)*n_test_ex:])\n",
    "\n",
    "enable_progress_bar()\n"
   ]
  },
  {
   "cell_type": "code",
   "execution_count": 6,
   "metadata": {},
   "outputs": [
    {
     "name": "stderr",
     "output_type": "stream",
     "text": [
      "Downloading data files: 100%|██████████| 1/1 [00:00<00:00, 8128.50it/s]\n",
      "Extracting data files: 100%|██████████| 1/1 [00:00<00:00, 706.11it/s]\n",
      "Generating dev split: 3270 examples [00:00, 121132.73 examples/s]"
     ]
    },
    {
     "name": "stdout",
     "output_type": "stream",
     "text": [
      "Answer the question from the passage with Yes or No.\n",
      "\n",
      "Passage: The Elder Scrolls Online -- As with other games in The Elder Scrolls series, the game is set on the continent of Tamriel. The events of the game occur a millennium before those of The Elder Scrolls V: Skyrim and around 800 years before The Elder Scrolls III: Morrowind and The Elder Scrolls IV: Oblivion. It has a broadly similar structure to Skyrim, with two separate conflicts progressing at the same time, one with the fate of the world in the balance, and one where the prize is supreme power on Tamriel. In The Elder Scrolls Online, the first struggle is against the Daedric Prince Molag Bal, who is attempting to meld the plane of Mundus with his realm of Coldharbour, and the second is to capture the vacant imperial throne, contested by three alliances of the mortal races. The player character has been sacrificed to Molag Bal, and Molag Bal has stolen their soul, the recovery of which is the primary game objective.\n",
      "Question: is elder scrolls online the same as skyrim\n",
      "Answer:No\n",
      "\n",
      "Answer the question from the passage with Yes or No.\n",
      "\n",
      "Passage: Phantom pain -- Phantom pain sensations are described as perceptions that an individual experiences relating to a limb or an organ that is not physically part of the body. Limb loss is a result of either removal by amputation or congenital limb deficiency. However, phantom limb sensations can also occur following nerve avulsion or spinal cord injury.\n",
      "Question: is pain experienced in a missing body part or paralyzed area\n",
      "Answer:\n"
     ]
    },
    {
     "name": "stderr",
     "output_type": "stream",
     "text": [
      "\n"
     ]
    }
   ],
   "source": [
    "# fname_json = f\"mmlu-data/ex_no_space.json\"\n",
    "n_shot = 1\n",
    "d1 = load_dataset(\"json\", data_files={\n",
    "        'dev' : f\"boolq-data/{n_shot}_shot_examples.json\"\n",
    "    })\n",
    "# print(d1['dev'])\n",
    "# print(d1['dev'].filter(lambda example: example[\"subject\"] == subject))\n",
    "# d2 = d1['dev'].filter(lambda example: example[\"subject\"] == subject)\n",
    "# # print(d2['input'][0][-1])\n",
    "# # print(\"---------\")\n",
    "print(d1['dev'][2]['input'])"
   ]
  },
  {
   "cell_type": "code",
   "execution_count": 7,
   "metadata": {},
   "outputs": [
    {
     "name": "stderr",
     "output_type": "stream",
     "text": [
      "Downloading data files: 100%|██████████| 6/6 [00:00<00:00, 23045.63it/s]\n",
      "Extracting data files: 100%|██████████| 6/6 [00:00<00:00, 1777.00it/s]\n",
      "Generating 0_shot split: 3270 examples [00:00, 288671.79 examples/s]\n",
      "Generating 1_shot split: 3270 examples [00:00, 194400.93 examples/s]\n",
      "Generating 2_shot split: 3270 examples [00:00, 121071.78 examples/s]\n",
      "Generating 3_shot split: 3270 examples [00:00, 99454.51 examples/s]\n",
      "Generating 4_shot split: 3270 examples [00:00, 75384.88 examples/s]\n",
      "Generating 5_shot split: 3270 examples [00:00, 63178.58 examples/s]\n"
     ]
    }
   ],
   "source": [
    "from datasets import DatasetDict, Dataset\n",
    "from collections import defaultdict\n",
    "\n",
    "fname_dict = {}\n",
    "for n_shot in range(6):\n",
    "    fname_dict[f\"{n_shot}_shot\"] = f\"boolq-data/{n_shot}_shot_examples.json\"\n",
    "# data_all = defaultdict(DatasetDict)\n",
    "d_upload = load_dataset(\"json\", data_files=fname_dict)\n",
    "    # data_all[f\"n_shot = {n_shot}\"] = d1['dev']\n"
   ]
  },
  {
   "cell_type": "code",
   "execution_count": 8,
   "metadata": {},
   "outputs": [
    {
     "name": "stderr",
     "output_type": "stream",
     "text": [
      "Creating parquet from Arrow format: 100%|██████████| 4/4 [00:00<00:00, 263.59ba/s]\n",
      "Uploading the dataset shards: 100%|██████████| 1/1 [00:00<00:00,  4.12it/s]\n",
      "Creating parquet from Arrow format: 100%|██████████| 4/4 [00:00<00:00, 233.03ba/s]\n",
      "Uploading the dataset shards: 100%|██████████| 1/1 [00:01<00:00,  1.03s/it]\n",
      "Creating parquet from Arrow format: 100%|██████████| 4/4 [00:00<00:00, 177.47ba/s]\n",
      "Uploading the dataset shards: 100%|██████████| 1/1 [00:00<00:00,  1.63it/s]\n",
      "Creating parquet from Arrow format: 100%|██████████| 4/4 [00:00<00:00, 164.66ba/s]\n",
      "Uploading the dataset shards: 100%|██████████| 1/1 [00:00<00:00,  1.17it/s]\n",
      "Creating parquet from Arrow format: 100%|██████████| 4/4 [00:00<00:00, 132.90ba/s]\n",
      "Uploading the dataset shards: 100%|██████████| 1/1 [00:01<00:00,  1.13s/it]\n",
      "Creating parquet from Arrow format: 100%|██████████| 4/4 [00:00<00:00, 84.68ba/s]\n",
      "Uploading the dataset shards: 100%|██████████| 1/1 [00:00<00:00,  1.03it/s]\n",
      "README.md: 100%|██████████| 1.34k/1.34k [00:00<00:00, 8.03MB/s]\n"
     ]
    }
   ],
   "source": [
    "# print(Dataset.from_dict(data_all))\n",
    "# Dataset.from_dict(data_all).push_to_hub(\"hassansh/boolq_n_shot\")\n",
    "d_upload.push_to_hub(\"hassansh/boolq_n_shot\")\n"
   ]
  },
  {
   "cell_type": "code",
   "execution_count": 38,
   "metadata": {},
   "outputs": [
    {
     "name": "stdout",
     "output_type": "stream",
     "text": [
      "Passage: Good Samaritan law -- Good Samaritan laws offer legal protection to people who give reasonable assistance to those who are, or who they believe to be, injured, ill, in peril, or otherwise incapacitated. The protection is intended to reduce bystanders' hesitation to assist, for fear of being sued or prosecuted for unintentional injury or wrongful death. An example of such a law in common-law areas of Canada: a good Samaritan doctrine is a legal principle that prevents a rescuer who has voluntarily helped a victim in distress from being successfully sued for wrongdoing. Its purpose is to keep people from being reluctant to help a stranger in need for fear of legal repercussions should they make some mistake in treatment. By contrast, a duty to rescue law requires people to offer assistance and holds those who fail to do so liable.\n",
      "Question: do good samaritan laws protect those who help at an accident\n",
      "Answer:Yes\n",
      "\n",
      "Passage: Powdered sugar -- Powdered sugar, also called confectioners' sugar, icing sugar, and icing cake, is a finely ground sugar produced by milling granulated sugar into a powdered state. It usually contains a small amount of anti-caking agent to prevent clumping and improve flow. Although most often produced in a factory, powdered sugar can also be made by processing ordinary granulated sugar in a coffee grinder, or by crushing it by hand in a mortar and pestle.\n",
      "Question: is confectionary sugar the same as powdered sugar\n",
      "Answer:Yes\n",
      "\n",
      "Passage: Windows Movie Maker -- Windows Movie Maker (formerly known as Windows Live Movie Maker in Windows 7) is a discontinued video editing software by Microsoft. It is a part of Windows Essentials software suite and offers the ability to create and edit videos as well as to publish them on OneDrive, Facebook, Vimeo, YouTube, and Flickr.\n",
      "Question: is windows movie maker part of windows essentials\n",
      "Answer:Yes\n",
      "\n",
      "Passage: Persian language -- Persian (/ˈpɜːrʒən, -ʃən/), also known by its endonym Farsi (فارسی fārsi (fɒːɾˈsiː) ( listen)), is one of the Western Iranian languages within the Indo-Iranian branch of the Indo-European language family. It is primarily spoken in Iran, Afghanistan (officially known as Dari since 1958), and Tajikistan (officially known as Tajiki since the Soviet era), and some other regions which historically were Persianate societies and considered part of Greater Iran. It is written in the Persian alphabet, a modified variant of the Arabic script, which itself evolved from the Aramaic alphabet.\n",
      "Question: do iran and afghanistan speak the same language\n",
      "Answer:Yes\n",
      "\n",
      "Passage: The Elder Scrolls Online -- As with other games in The Elder Scrolls series, the game is set on the continent of Tamriel. The events of the game occur a millennium before those of The Elder Scrolls V: Skyrim and around 800 years before The Elder Scrolls III: Morrowind and The Elder Scrolls IV: Oblivion. It has a broadly similar structure to Skyrim, with two separate conflicts progressing at the same time, one with the fate of the world in the balance, and one where the prize is supreme power on Tamriel. In The Elder Scrolls Online, the first struggle is against the Daedric Prince Molag Bal, who is attempting to meld the plane of Mundus with his realm of Coldharbour, and the second is to capture the vacant imperial throne, contested by three alliances of the mortal races. The player character has been sacrificed to Molag Bal, and Molag Bal has stolen their soul, the recovery of which is the primary game objective.\n",
      "Question: is elder scrolls online the same as skyrim\n",
      "Answer:No\n",
      "\n",
      "Passage: Phantom pain -- Phantom pain sensations are described as perceptions that an individual experiences relating to a limb or an organ that is not physically part of the body. Limb loss is a result of either removal by amputation or congenital limb deficiency. However, phantom limb sensations can also occur following nerve avulsion or spinal cord injury.\n",
      "Question: is pain experienced in a missing body part or paralyzed area\n",
      "Answer:\n"
     ]
    }
   ],
   "source": [
    "print(d_upload['5_shot'][2]['input'])"
   ]
  },
  {
   "cell_type": "code",
   "execution_count": 24,
   "metadata": {},
   "outputs": [
    {
     "name": "stdout",
     "output_type": "stream",
     "text": [
      "Based on the paragraph, determine whether the candidate answer to the question is True or False.\n",
      "\n",
      "Paragraph: A stranger in town meets pretty young Susan Martinez De La Cruz and accompanies her to a barbecue , where wealthy Jason Carberry is saying a few words for the recently departed Robin Randall , a citizen who got shot .  Jason objects to the stranger's presence , being Susan's guardian and protective of her .  He challenges him to a shootout , but the stranger pulls his pistol before Jason's can even clear the holster .  Calaveras Kate , a saloon singer who's in love with Jason , is relieved when the stranger declines to pull the trigger .  Rafael Moreno suddenly rides into town and picks a fight with the stranger .  Their brawl continues until the arrival of Judge Wallace Wintrop and his niece , Sheila , who have come to town from back East and deplore all this random violence out West .  The stranger is recognized as Reb Randall , the dead man's brother .  He is looking for the killer , who could be Rafael , or could be Jason , or could even be Billy Buckett , the coward of the county .  The women hold their breath to see if the men they love will survive . \n",
      "Question: What was the name of the person who meets Susan and accompanies her to barbecue?\n",
      "Candiate answer: Reb\n",
      "Answer:True\n",
      "\n",
      "Paragraph: What causes a change in motion? The application of a force. Any time an object changes motion, a force has been applied. In what ways can this happen? Force can cause an object at rest to start moving. Forces can cause objects to speed up or slow down. Forces can cause a moving object to stop. Forces can also cause a change in direction. In short, forces cause changes in motion. The moving object may change its speed, its direction, or both. We know that changes in motion require a force. We know that the size of the force determines the change in motion. How much an objects motion changes when a force is applied depends on two things. It depends on the strength of the force. It also depends on the objects mass. Think about some simple tasks you may regularly do. You may pick up a baseball. This requires only a very small force. \n",
      "Question: Does an object's mass has very little to do affect how much its motion changes when a force is applied to it?\n",
      "Candidate answer: No\n",
      "Answer:\n"
     ]
    }
   ],
   "source": [
    "num_shots = 1\n",
    "dataset_name = \"hassansh/multirc_n_shot\"\n",
    "dataset = load_dataset(dataset_name, name = f\"{num_shots}_shot\")['test']#.select(range(10))\n",
    "print(dataset[10]['input'])"
   ]
  },
  {
   "cell_type": "code",
   "execution_count": null,
   "metadata": {},
   "outputs": [],
   "source": []
  }
 ],
 "metadata": {
  "kernelspec": {
   "display_name": "pytorch",
   "language": "python",
   "name": "python3"
  },
  "language_info": {
   "codemirror_mode": {
    "name": "ipython",
    "version": 3
   },
   "file_extension": ".py",
   "mimetype": "text/x-python",
   "name": "python",
   "nbconvert_exporter": "python",
   "pygments_lexer": "ipython3",
   "version": "3.10.12"
  },
  "orig_nbformat": 4
 },
 "nbformat": 4,
 "nbformat_minor": 2
}
