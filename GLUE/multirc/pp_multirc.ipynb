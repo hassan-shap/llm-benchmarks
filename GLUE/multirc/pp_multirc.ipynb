{
 "cells": [
  {
   "cell_type": "code",
   "execution_count": 58,
   "metadata": {},
   "outputs": [],
   "source": [
    "from datasets import load_dataset, concatenate_datasets\n",
    "import json\n",
    "import torch\n",
    "from datasets.utils.logging import disable_progress_bar,enable_progress_bar\n",
    "import os\n",
    "import numpy as np\n"
   ]
  },
  {
   "cell_type": "code",
   "execution_count": 59,
   "metadata": {},
   "outputs": [
    {
     "name": "stdout",
     "output_type": "stream",
     "text": [
      "Dataset({\n",
      "    features: ['question', 'input', 'target_str', 'target', 'idx'],\n",
      "    num_rows: 4848\n",
      "})\n",
      "9\r"
     ]
    }
   ],
   "source": [
    "dataset_name = \"multirc_n_shot\"\n",
    "dataset_name_hf = \"hassansh/\"+ dataset_name # The dataset name in Hugging Face Datasets\n",
    "\n",
    "num_shots = 0\n",
    "dataset = load_dataset(dataset_name_hf, name = f\"{num_shots}_shot\")['test']\n",
    "idx = range(dataset.num_rows)\n",
    "dataset = dataset.add_column(\"idx\", idx)\n",
    "print(dataset)\n",
    "\n",
    "# make a dict of questions for the same paragraph\n",
    "disable_progress_bar()\n",
    "num_qs_all = 953\n",
    "# q_list = torch.zeros(dataset.num_rows)\n",
    "q_list = {}\n",
    "ans_list = {}\n",
    "# ans_list = torch.zeros(dataset.num_rows)\n",
    "step = 100\n",
    "for q in range(num_qs_all):\n",
    "    dd = dataset.filter(lambda example: example['question']==q)\n",
    "    q_list[f\"{q}\"] = []\n",
    "    ans_list[f\"{q}\"] = []\n",
    "    for ind in range(dd.num_rows):\n",
    "        # q_list[dd[ind]['idx']] = q\n",
    "        # ans_list[dd[ind]['idx']] = dd[ind]['target']\n",
    "        q_list[f\"{q}\"].append(dd[ind]['idx'])\n",
    "        ans_list[f\"{q}\"].append(dd[ind]['target'])\n",
    "\n",
    "    if q % step == 0:\n",
    "        print(f\"{q//step}\", end='\\r')\n",
    "# print(num_qs_all)\n",
    "enable_progress_bar()"
   ]
  },
  {
   "cell_type": "code",
   "execution_count": 120,
   "metadata": {},
   "outputs": [
    {
     "name": "stdout",
     "output_type": "stream",
     "text": [
      "[0, 0, 1, 1, 0]\n"
     ]
    }
   ],
   "source": [
    "print(ans_list[\"1\"])"
   ]
  },
  {
   "cell_type": "code",
   "execution_count": 63,
   "metadata": {},
   "outputs": [
    {
     "name": "stdout",
     "output_type": "stream",
     "text": [
      "torch.Size([4848])\n"
     ]
    }
   ],
   "source": [
    "model_name = \"Llama-2-7b-hf/\"\n",
    "# model_name = \"Mistral-7B-v0.1/\"\n",
    "folder_in = \"gromovand/\" + model_name\n",
    "num_shots = 0\n",
    "path_to_results = folder_in + dataset_name + f\"_{num_shots}/\"\n",
    "log_address_acc = os.path.join(path_to_results, \"accuracy_per_question.json\")\n",
    "\n",
    "with open(log_address_acc, 'r') as log_file:\n",
    "    # Read the log file line by line\n",
    "    for line in log_file:\n",
    "        acc_list = json.loads(line)\n",
    "\n",
    "acc_list = torch.tensor(acc_list, dtype= torch.int8)\n",
    "print(acc_list.shape)"
   ]
  },
  {
   "cell_type": "code",
   "execution_count": 64,
   "metadata": {},
   "outputs": [
    {
     "name": "stdout",
     "output_type": "stream",
     "text": [
      "F1_a: 0.327, 0.011, over 952\n",
      "EM: 0.049\n",
      "F1_tot: 0.437\n"
     ]
    }
   ],
   "source": [
    "F1_list = []\n",
    "noTpos =[]\n",
    "nopos =[]\n",
    "EM = 0 # exact match\n",
    "for q in range(num_qs_all):\n",
    "    # print(acc_list[q_list[f\"{q}\"]])\n",
    "    TA_arr = torch.argwhere(acc_list[q_list[f\"{q}\"]]==1)[:,0] # correc answers\n",
    "    FA_arr = torch.argwhere(acc_list[q_list[f\"{q}\"]]==0)[:,0] # wrong answers\n",
    "    GP_arr = torch.argwhere(torch.tensor(ans_list[f\"{q}\"])==1)[:,0] # ground positive\n",
    "    GN_arr = torch.argwhere(torch.tensor(ans_list[f\"{q}\"])==0)[:,0] # ground negative\n",
    "    # print(q, TA,FA,GP,GN)\n",
    "    GP = GP_arr.shape[0]\n",
    "    TP = np.intersect1d(TA_arr,GP_arr).shape[0]\n",
    "    TN = np.intersect1d(TA_arr,GN_arr).shape[0]\n",
    "    FP = np.intersect1d(FA_arr,GN_arr).shape[0]\n",
    "    FN = np.intersect1d(FA_arr,GP_arr).shape[0]\n",
    "    if FA_arr.shape[0]==0:\n",
    "        # print(q)\n",
    "        EM += 1\n",
    "    # print(TP.shape, TN.shape)\n",
    "    # if (TP.shape[0]+ FP.shape[0])> 0:\n",
    "        # if TP.shape[0]>0:\n",
    "            # precision = TP.shape[0]/(TP.shape[0]+ FP.shape[0])\n",
    "            # recall = TP.shape[0]/GP.shape[0]\n",
    "            # F1_list.append( 2*precision*recall/(precision+recall))\n",
    "    if TP+FP+GP >0 :\n",
    "        F1_list.append(2*TP/(TP+FP+ GP))\n",
    "    # else:\n",
    "    #     F1_list.append(1)\n",
    "\n",
    "    #     # else:\n",
    "    #         noTpos.append(q)\n",
    "    # else:\n",
    "    #     nopos.append(q)\n",
    "\n",
    "F1_list = torch.tensor(F1_list)\n",
    "print(f\"F1_a: {F1_list.mean().item():.3f}, {F1_list.std().item()/(F1_list.shape[0]-1)**0.5:.3f}, over {F1_list.shape[0]}\")\n",
    "print(f\"EM: {EM/num_qs_all:.3f}\")\n",
    "\n",
    "# # for i in range(acc_list.shape[0]):\n",
    "TA = torch.argwhere(acc_list==1) # correc answers\n",
    "FA = torch.argwhere(acc_list==0) # wrong answers\n",
    "ans_full_list = dataset['target']\n",
    "GP = torch.argwhere(torch.tensor(ans_full_list)==1) # ground positive\n",
    "GN = torch.argwhere(torch.tensor(ans_full_list)==0) # ground negative\n",
    "TP = np.intersect1d(TA,GP)\n",
    "TN = np.intersect1d(TA,GN)\n",
    "FP = np.intersect1d(FA,GN)\n",
    "FN = np.intersect1d(FA,GP)\n",
    "# print(TP.shape, TN.shape)\n",
    "precision = TP.shape[0]/(TP.shape[0]+ FP.shape[0])\n",
    "recall = TP.shape[0]/GP.shape[0]\n",
    "F1 = 2*precision*recall/(precision+recall)\n",
    "\n",
    "print(f\"F1_tot: {F1:.3f}\")\n"
   ]
  },
  {
   "cell_type": "code",
   "execution_count": 26,
   "metadata": {},
   "outputs": [],
   "source": [
    "F1_a: 0.728, 0.008, over 953\n",
    "EM: 0.275\n",
    "F1_tot: 0.741\n",
    "\n",
    "# 0.4721526503562927 0.011244376819454057 953\n",
    "# 0.5733551383018494 0.0068698085200768555 953\n",
    "# torch.argwhere(torch.tensor(ans_full_list)==1)"
   ]
  },
  {
   "cell_type": "code",
   "execution_count": 97,
   "metadata": {},
   "outputs": [
    {
     "name": "stdout",
     "output_type": "stream",
     "text": [
      "239 39\n",
      "286\n",
      "[0, 1, 0, 0]\n",
      "[1, 0, 0, 0]\n",
      "[0, 0, 1, 1]\n"
     ]
    }
   ],
   "source": [
    "print(len(nopos), len(noTpos))\n",
    "idx = 10\n",
    "arr = noTpos\n",
    "print(arr[idx])\n",
    "print(acc_list[q_list[f\"{arr[idx]}\"]].tolist())\n",
    "print( ((acc_list[q_list[f\"{arr[idx]}\"]] + 2+~torch.tensor(ans_list[f\"{arr[idx]}\"])) %2).tolist())\n",
    "print(ans_list[f\"{arr[idx]}\"])\n"
   ]
  },
  {
   "cell_type": "code",
   "execution_count": 93,
   "metadata": {},
   "outputs": [
    {
     "data": {
      "text/plain": [
       "tensor([1, 0])"
      ]
     },
     "execution_count": 93,
     "metadata": {},
     "output_type": "execute_result"
    }
   ],
   "source": [
    "2+~torch.tensor([0,1])"
   ]
  },
  {
   "cell_type": "code",
   "execution_count": null,
   "metadata": {},
   "outputs": [],
   "source": []
  }
 ],
 "metadata": {
  "kernelspec": {
   "display_name": "pytorch",
   "language": "python",
   "name": "python3"
  },
  "language_info": {
   "codemirror_mode": {
    "name": "ipython",
    "version": 3
   },
   "file_extension": ".py",
   "mimetype": "text/x-python",
   "name": "python",
   "nbconvert_exporter": "python",
   "pygments_lexer": "ipython3",
   "version": "3.10.12"
  },
  "orig_nbformat": 4
 },
 "nbformat": 4,
 "nbformat_minor": 2
}
