{
 "cells": [
  {
   "cell_type": "code",
   "execution_count": 7,
   "metadata": {},
   "outputs": [],
   "source": [
    "import torch\n",
    "from datasets import load_dataset\n",
    "from transformers import (\n",
    "    AutoModelForCausalLM,\n",
    "    AutoTokenizer,\n",
    "    BitsAndBytesConfig,\n",
    "    pipeline,\n",
    "    logging,\n",
    ")\n",
    "\n"
   ]
  },
  {
   "cell_type": "code",
   "execution_count": 11,
   "metadata": {},
   "outputs": [
    {
     "name": "stdout",
     "output_type": "stream",
     "text": [
      "\n",
      "===================================BUG REPORT===================================\n",
      "Welcome to bitsandbytes. For bug reports, please run\n",
      "\n",
      "python -m bitsandbytes\n",
      "\n",
      " and submit this information together with your error trace to: https://github.com/TimDettmers/bitsandbytes/issues\n",
      "================================================================================\n",
      "bin /home/hshapour/.pyenv/versions/3.10.12/envs/pytorch/lib/python3.10/site-packages/bitsandbytes/libbitsandbytes_cuda115.so\n",
      "CUDA SETUP: CUDA runtime path found: /usr/lib/x86_64-linux-gnu/libcudart.so\n",
      "CUDA SETUP: Highest compute capability among GPUs detected: 8.0\n",
      "CUDA SETUP: Detected CUDA version 115\n",
      "CUDA SETUP: Loading binary /home/hshapour/.pyenv/versions/3.10.12/envs/pytorch/lib/python3.10/site-packages/bitsandbytes/libbitsandbytes_cuda115.so...\n"
     ]
    },
    {
     "name": "stderr",
     "output_type": "stream",
     "text": [
      "Loading checkpoint shards: 100%|██████████| 2/2 [00:05<00:00,  2.98s/it]\n"
     ]
    },
    {
     "name": "stdout",
     "output_type": "stream",
     "text": [
      "pre-trained model's BOS EOS and PAD token id: 1 2 1  => It should be 1 2 None\n"
     ]
    }
   ],
   "source": [
    "# model_name = \"/data/opt-350m\"\n",
    "model_name = \"meta-llama/Llama-2-7b-hf\"\n",
    "# model_name = \"/data/Mistral-7B-Instruct-v0.2\"\n",
    "# model_name = \"mistralai/Mistral-7B-v0.1\"\n",
    "\n",
    "bnb_config = BitsAndBytesConfig(\n",
    "    load_in_4bit=True,\n",
    "    bnb_4bit_quant_type=\"nf4\",\n",
    "    bnb_4bit_compute_dtype=torch.bfloat16,\n",
    "    bnb_4bit_use_double_quant=False,\n",
    ")\n",
    "device_map = {\"\": 0}\n",
    "# Load model\n",
    "model = AutoModelForCausalLM.from_pretrained(\n",
    "    model_name,\n",
    "    quantization_config=bnb_config,\n",
    "    device_map=device_map\n",
    ")\n",
    "model.eval()\n",
    "\n",
    "model.config.use_cache = False\n",
    "model.config.pretraining_tp = 1\n",
    "\n",
    "# Load tokenizer\n",
    "tokenizer = AutoTokenizer.from_pretrained(model_name, trust_remote_code=True)\n",
    "if \"Llama-2\" in model_name or \"Mistral\" in model_name:\n",
    "    tokenizer.pad_token = tokenizer.bos_token\n",
    "\n",
    "bos = tokenizer.bos_token_id\n",
    "eos = tokenizer.eos_token_id\n",
    "pad = tokenizer.pad_token_id\n",
    "print(\"pre-trained model's BOS EOS and PAD token id:\",bos,eos,pad,\" => It should be 1 2 None\")\n",
    "\n",
    "##### tokenizer.pad_token_id = 0  # unk. we want this to be different from the eos token\n",
    "tokenizer.padding_side = \"right\"\n"
   ]
  },
  {
   "cell_type": "code",
   "execution_count": null,
   "metadata": {},
   "outputs": [],
   "source": [
    "from datasets import load_dataset, concatenate_datasets\n",
    "import json\n",
    "import torch\n",
    "from datasets.utils.logging import disable_progress_bar,enable_progress_bar\n",
    "\n",
    "dataset_name = \"super_glue\"  # The MMLU dataset name in Hugging Face Datasets\n",
    "dataset = load_dataset(dataset_name, name='multirc')#[\"train\"]\n",
    "# print(dataset)\n",
    "\n",
    "labels = dataset[\"train\"].features[\"label\"]\n",
    "# def create_label_str(batch):\n",
    "#     return {\"label_str\": labels.int2str(batch[\"label\"])}\n",
    "def create_label_str(example):\n",
    "    return {\"label_str\": \"True\" if example[\"label\"]== 1 else \"False\"}\n",
    "# print(labels)\n"
   ]
  },
  {
   "cell_type": "code",
   "execution_count": 99,
   "metadata": {},
   "outputs": [
    {
     "name": "stdout",
     "output_type": "stream",
     "text": [
      "1000 31091\n"
     ]
    }
   ],
   "source": [
    "# data_train = dataset[\"train\"].map(create_label_str)   \n",
    "# data_test = dataset[\"validation\"].map(create_label_str)   \n",
    "# # print(d1)\n",
    "# # dd = d1.select(range(5)).shuffle()\n",
    "\n",
    "d1 = dataset[\"train\"].map(create_label_str)   \n",
    "d2 = dataset[\"validation\"].map(create_label_str)   \n",
    "\n",
    "d_all = concatenate_datasets([d1,d2])\n",
    "train_size = 1000\n",
    "data_train = d_all.select(range(train_size))\n",
    "data_test = d_all.select(range(train_size,d_all.num_rows))\n",
    "\n",
    "print(data_train.num_rows, data_test.num_rows)"
   ]
  },
  {
   "cell_type": "code",
   "execution_count": 100,
   "metadata": {},
   "outputs": [
    {
     "name": "stderr",
     "output_type": "stream",
     "text": [
      "Filter: 100%|██████████| 1000/1000 [00:00<00:00, 51921.27 examples/s]\n"
     ]
    },
    {
     "name": "stderr",
     "output_type": "stream",
     "text": [
      "Filter: 100%|██████████| 1000/1000 [00:00<00:00, 55989.75 examples/s]\n",
      "Filter: 100%|██████████| 1000/1000 [00:00<00:00, 61053.35 examples/s]\n",
      "Filter: 100%|██████████| 1000/1000 [00:00<00:00, 57671.10 examples/s]\n",
      "Filter: 100%|██████████| 1000/1000 [00:00<00:00, 60610.45 examples/s]\n",
      "Filter: 100%|██████████| 1000/1000 [00:00<00:00, 60266.45 examples/s]"
     ]
    },
    {
     "name": "stdout",
     "output_type": "stream",
     "text": [
      "Paragraph: While this process moved along, diplomacy continued its rounds. Direct pressure on the Taliban had proved unsuccessful. As one NSC staff note put it, \"Under the Taliban, Afghanistan is not so much a state sponsor of terrorism as it is a state sponsored by terrorists.\" In early 2000, the United States began a high-level effort to persuade Pakistan to use its influence over the Taliban. In January 2000, Assistant Secretary of State Karl Inderfurth and the State Department's counterterrorism coordinator, Michael Sheehan, met with General Musharraf in Islamabad, dangling before him the possibility of a presidential visit in March as a reward for Pakistani cooperation. Such a visit was coveted by Musharraf, partly as a sign of his government's legitimacy. He told the two envoys that he would meet with Mullah Omar and press him on  Bin Laden. They left, however, reporting to Washington that Pakistan was unlikely in fact to do anything,\" given what it sees as the benefits of Taliban control of Afghanistan.\" President Clinton was scheduled to travel to India. The State Department felt that he should not visit India without also visiting Pakistan. The Secret Service and the CIA, however, warned in the strongest terms that visiting Pakistan would risk the President's life. Counterterrorism officials also argued that Pakistan had not done enough to merit a presidential visit. But President Clinton insisted on including Pakistan in the itinerary for his trip to South Asia. His one-day stopover on March 25, 2000, was the first time a U.S. president had been there since 1969. At his meeting with Musharraf and others, President Clinton concentrated on tensions between Pakistan and India and the dangers of nuclear proliferation, but also discussed  Bin Laden. President Clinton told us that when he pulled Musharraf aside for a brief, one-on-one meeting, he pleaded with the general for help regarding  Bin Laden.\" I offered him the moon when I went to see him, in terms of better relations with the United States, if he'd help us get  Bin Laden and deal with another issue or two.\" The U.S. effort continued. \n",
      "Question: Why did the Secret Service and the CIA think it was a bad idea to visit Pakistan?\n",
      "Determine whether the following items are True or False. \n",
      "Direct pressure on Taliban had proved unsuccessful\n",
      "The envoys reported that Pakistan was unlikely to do anything\n",
      "It would risk the president's life and they felt that Pakistan had not done enough to merit a presidential visit\n",
      "It was dangerous\n",
      "It risked his life\n",
      "The tensions between India and Pakistan\n",
      "\"Pakistan had not done enough to merit a presidential visit\" and \"visiting Pakistan would risk the President's life.\"\n",
      "Answer:\n"
     ]
    },
    {
     "name": "stderr",
     "output_type": "stream",
     "text": [
      "\n"
     ]
    }
   ],
   "source": [
    "# prepare examples\n",
    "example_prompt = []\n",
    "for ex in range(6):\n",
    "    dd = data_train.filter(lambda example: example['idx']['question']==ex)\n",
    "    prompt = \"Paragraph: \" + dd[0]['paragraph'] + '\\n'\n",
    "    prompt += \"Question: \" + dd[0]['question'] + '\\n'\n",
    "    # prompt += \"Candidate answers:\\n\"\n",
    "    # prompt += \"Statement: \"\n",
    "    prompt += \"Determine whether the following items are True or False. \\n\"\n",
    "    for idx in range(dd.num_rows):\n",
    "    # for idx in [0]:\n",
    "        prompt += dd[idx]['answer'] + '\\n'\n",
    "    prompt += \"Answer:\"\n",
    "    if ex< 4:\n",
    "        for idx in range(dd.num_rows-1):\n",
    "        # for idx in [0]:\n",
    "            prompt += dd[idx]['label_str'] # + ','\n",
    "        prompt += dd[idx]['label_str'] #+ '\\n\\n'\n",
    "    example_prompt.append(prompt)\n",
    "\n",
    "print(example_prompt[4])\n"
   ]
  },
  {
   "cell_type": "code",
   "execution_count": 118,
   "metadata": {},
   "outputs": [
    {
     "data": {
      "text/plain": [
       "tensor([3, 0, 1, 2])"
      ]
     },
     "execution_count": 118,
     "metadata": {},
     "output_type": "execute_result"
    }
   ],
   "source": [
    "torch.randperm(4)"
   ]
  },
  {
   "cell_type": "code",
   "execution_count": 113,
   "metadata": {},
   "outputs": [
    {
     "name": "stdout",
     "output_type": "stream",
     "text": [
      "tensor([43, 79, 26, 71, 62, 10])\n"
     ]
    },
    {
     "name": "stderr",
     "output_type": "stream",
     "text": [
      "Filter: 100%|██████████| 1000/1000 [00:00<00:00, 40736.43 examples/s]\n",
      "Filter: 100%|██████████| 1000/1000 [00:00<00:00, 45193.83 examples/s]\n",
      "Filter: 100%|██████████| 1000/1000 [00:00<00:00, 45636.89 examples/s]\n",
      "Filter: 100%|██████████| 1000/1000 [00:00<00:00, 45428.30 examples/s]"
     ]
    },
    {
     "name": "stdout",
     "output_type": "stream",
     "text": [
      "Paragraph: (CNN) -- Declaring 2010 \"The best year in safety performance in our company's history,\" Transocean Ltd., owner of the Gulf of Mexico oil rig that exploded, killing 11 workers, has awarded its top executives hefty bonuses and raises, according to a recent filing with the U.S. Securities and Exchange Commission. That includes a $200,000 salary increase for Transocean president and chief executive officer Steven L. Newman, whose base salary will increase from $900,000 to $1.1 million, according to the SEC report. Newman's bonus was $374,062, the report states. Newman also has a $5.4 million long-term compensation package the company awarded him upon his appointment as CEO in March 2010, according to the SEC filing. The latest cash awards are based in part on the company's \"performance under safety,\" the Transocean filing states. \"Notwithstanding the tragic loss of life in the Gulf of Mexico, we achieved an exemplary statistical safety record as measured by our total recordable incident rate and total potential severity rate,\" the SEC statement reads. \"As measured by these standards, we recorded the best year in safety performance in our Company's history.\" The company called that record \"a reflection on our commitment to achieving an incident-free environment, all the time, everywhere,\" the SEC filing states. The company did not respond to an e-mail from CNN seeking comment. The April 20, 2010, explosion on the Deepwater Horizon rig injured 17 workers and killed 11 others, including nine Transocean employees, according to the SEC filing. It has been called the worst spill in U.S. history. The well was capped three months later, but not before millions of barrels of oil spilled into the Gulf. In January, President Barack Obama's National Commission on the BP Deepwater Horizon Oil Spill and Offshore Drilling released a report that spread blame for the accident among Transocean, BP -- which leased the rig -- and Halliburton, which installed the rig's cement casing. \n",
      "Question: How much money in bonuses and salary increases did Transocean president and chief executive officer Steven L. Newman receive?\n",
      "Response: A $200.000 salary increase plus $374,062 in bonus\n",
      "Answer:True\n",
      "\n"
     ]
    },
    {
     "name": "stderr",
     "output_type": "stream",
     "text": [
      "\n"
     ]
    }
   ],
   "source": [
    "# prepare examples\n",
    "example_prompt = []\n",
    "ex_inds = torch.randint(0, 80,(6,))\n",
    "print(ex_inds)\n",
    "for i, ex in enumerate(ex_inds):\n",
    "    dd = data_train.filter(lambda example: example['idx']['question']==ex)\n",
    "    idx = 0\n",
    "    prompt = \"Paragraph: \" + dd[idx]['paragraph'] + '\\n'\n",
    "    for idx in [0]:\n",
    "        prompt += \"Question: \" + dd[idx]['question'] + '\\n'\n",
    "        prompt += \"Response: \" + dd[idx]['answer'] + '\\n'\n",
    "        if i< 4:\n",
    "            prompt += \"Answer:\" + dd[idx]['label_str'] + '\\n'\n",
    "        # prompt += dd[idx]['label_str'] #+ '\\n\\n'\n",
    "    example_prompt.append(prompt)\n",
    "\n",
    "print(example_prompt[1])\n"
   ]
  },
  {
   "cell_type": "code",
   "execution_count": 114,
   "metadata": {},
   "outputs": [
    {
     "name": "stdout",
     "output_type": "stream",
     "text": [
      "2586\n"
     ]
    },
    {
     "name": "stderr",
     "output_type": "stream",
     "text": [
      "/home/hshapour/.pyenv/versions/3.10.12/envs/pytorch/lib/python3.10/site-packages/transformers/generation/configuration_utils.py:381: UserWarning: `do_sample` is set to `False`. However, `temperature` is set to `0.6` -- this flag is only used in sample-based generation modes. You should set `do_sample=True` or unset `temperature`.\n",
      "  warnings.warn(\n",
      "/home/hshapour/.pyenv/versions/3.10.12/envs/pytorch/lib/python3.10/site-packages/transformers/generation/configuration_utils.py:386: UserWarning: `do_sample` is set to `False`. However, `top_p` is set to `0.9` -- this flag is only used in sample-based generation modes. You should set `do_sample=True` or unset `top_p`.\n",
      "  warnings.warn(\n"
     ]
    },
    {
     "name": "stdout",
     "output_type": "stream",
     "text": [
      "Paragraph: Alexander II's death caused a great setback for the reform movement. One of his last ideas was to draft plans for an elected parliament, or Duma, which were completed the day before he died but not yet released to the Russian people. In a matter of 48 hours, Alexander II planned to release his plan for the duma to the Russian people. Had he lived, Russia might have followed a path to constitutional monarchy instead of the long road of oppression that defined his successor's reign. The first action Alexander III took after his father's death was to tear up those plans. A Duma would not come into fruition until 1905, when Alexander II's grandson, Nicholas II, commissioned the Duma following extreme pressure on the monarchy as a result of the Russian Revolution of 1905. The assassination triggered major suppression of civil liberties in Russia, and police brutality burst back in full force after experiencing some restraint under the reign of Alexander II, whose death was witnessed first-hand by his son, Alexander III, and his grandson, Nicholas II, both future emperors who vowed not to have the same fate befall them. Both of them used the Okhrana to arrest protestors and uproot suspected rebel groups, creating further suppression of personal freedom for the Russian people. A series of anti-Jewish pogroms and antisemitic legislation, the May Laws, were yet another result. Finally, the tsar's assassination also inspired anarchists to advocate \"'propaganda by deed'--the use of a spectacular act of violence to incite revolution.\" With construction starting in 1883, the Church of the Savior on Blood was built on the site of Alexander's assassination and dedicated in his memory. \n",
      "Question: Who was the founder of the idea for an elected parliament in Russia?\n",
      "Response: Alexander III\n",
      "Answer:False\n",
      "\n",
      "\n",
      "Paragraph: (CNN) -- Declaring 2010 \"The best year in safety performance in our company's history,\" Transocean Ltd., owner of the Gulf of Mexico oil rig that exploded, killing 11 workers, has awarded its top executives hefty bonuses and raises, according to a recent filing with the U.S. Securities and Exchange Commission. That includes a $200,000 salary increase for Transocean president and chief executive officer Steven L. Newman, whose base salary will increase from $900,000 to $1.1 million, according to the SEC report. Newman's bonus was $374,062, the report states. Newman also has a $5.4 million long-term compensation package the company awarded him upon his appointment as CEO in March 2010, according to the SEC filing. The latest cash awards are based in part on the company's \"performance under safety,\" the Transocean filing states. \"Notwithstanding the tragic loss of life in the Gulf of Mexico, we achieved an exemplary statistical safety record as measured by our total recordable incident rate and total potential severity rate,\" the SEC statement reads. \"As measured by these standards, we recorded the best year in safety performance in our Company's history.\" The company called that record \"a reflection on our commitment to achieving an incident-free environment, all the time, everywhere,\" the SEC filing states. The company did not respond to an e-mail from CNN seeking comment. The April 20, 2010, explosion on the Deepwater Horizon rig injured 17 workers and killed 11 others, including nine Transocean employees, according to the SEC filing. It has been called the worst spill in U.S. history. The well was capped three months later, but not before millions of barrels of oil spilled into the Gulf. In January, President Barack Obama's National Commission on the BP Deepwater Horizon Oil Spill and Offshore Drilling released a report that spread blame for the accident among Transocean, BP -- which leased the rig -- and Halliburton, which installed the rig's cement casing. \n",
      "Question: How much money in bonuses and salary increases did Transocean president and chief executive officer Steven L. Newman receive?\n",
      "Response: A $200.000 salary increase plus $374,062 in bonus\n",
      "Answer:True\n",
      "\n",
      "\n",
      "Paragraph: The rally took place on October 17, the shooting on February 29. Again, standard filmmaking techniques are interpreted as smooth distortion: \"Moore works by depriving you of context and guiding your mind to fill the vacuum -- with completely false ideas. It is brilliantly, if unethically, done.\" As noted above, the \"from my cold dead hands\" part is simply Moore's way to introduce Heston. Did anyone but Moore's critics view it as anything else? He certainly does not \"attribute it to a speech where it was not uttered\" and, as noted above, doing so twice would make no sense whatsoever if Moore was the mastermind deceiver that his critics claim he is. Concerning the Georgetown Hoya interview where Heston was asked about Rolland, you write: \"There is no indication that [Heston] recognized Kayla Rolland's case.\" This is naive to the extreme -- Heston would not be president of the NRA if he was not kept up to date on the most prominent cases of gun violence. Even if he did not respond to that part of the interview, he certainly knew about the case at that point. Regarding the NRA website excerpt about the case and the highlighting of the phrase \"48 hours after Kayla Rolland is pronounced dead\": This is one valid criticism, but far from the deliberate distortion you make it out to be; rather, it is an example for how the facts can sometimes be easy to miss with Moore's fast pace editing. The reason the sentence is highlighted is not to deceive the viewer into believing that Heston hurried to Flint to immediately hold a rally there (as will become quite obvious), but simply to highlight the first mention of the name \"Kayla Rolland\" in the text, which is in this paragraph. \n",
      "Question: When was Kayla Rolland shot?\n",
      "Response: February 17\n",
      "Answer:False\n",
      "\n",
      "\n",
      "Paragraph: A stranger in town meets pretty young Susan Martinez De La Cruz and accompanies her to a barbecue , where wealthy Jason Carberry is saying a few words for the recently departed Robin Randall , a citizen who got shot .  Jason objects to the stranger's presence , being Susan's guardian and protective of her .  He challenges him to a shootout , but the stranger pulls his pistol before Jason's can even clear the holster .  Calaveras Kate , a saloon singer who's in love with Jason , is relieved when the stranger declines to pull the trigger .  Rafael Moreno suddenly rides into town and picks a fight with the stranger .  Their brawl continues until the arrival of Judge Wallace Wintrop and his niece , Sheila , who have come to town from back East and deplore all this random violence out West .  The stranger is recognized as Reb Randall , the dead man's brother .  He is looking for the killer , who could be Rafael , or could be Jason , or could even be Billy Buckett , the coward of the county .  The women hold their breath to see if the men they love will survive . \n",
      "Question: In Which place the Sheila came?\n",
      "Response: East\n",
      "Answer:True\n",
      "\n",
      "\n",
      "Paragraph: A stranger in town meets pretty young Susan Martinez De La Cruz and accompanies her to a barbecue , where wealthy Jason Carberry is saying a few words for the recently departed Robin Randall , a citizen who got shot .  Jason objects to the stranger's presence , being Susan's guardian and protective of her .  He challenges him to a shootout , but the stranger pulls his pistol before Jason's can even clear the holster .  Calaveras Kate , a saloon singer who's in love with Jason , is relieved when the stranger declines to pull the trigger .  Rafael Moreno suddenly rides into town and picks a fight with the stranger .  Their brawl continues until the arrival of Judge Wallace Wintrop and his niece , Sheila , who have come to town from back East and deplore all this random violence out West .  The stranger is recognized as Reb Randall , the dead man's brother .  He is looking for the killer , who could be Rafael , or could be Jason , or could even be Billy Buckett , the coward of the county .  The women hold their breath to see if the men they love will survive . \n",
      "Question: Who wants to look for the killer?\n",
      "Response: Susan Martinez De La Cruz\n",
      "\n",
      "\n",
      "Paragraph: While this process moved along, diplomacy continued its rounds. Direct pressure on the Taliban had proved unsuccessful. As one NSC staff note put it, \"Under the Taliban, Afghanistan is not so much a state sponsor of terrorism as it is a state sponsored by terrorists.\" In early 2000, the United States began a high-level effort to persuade Pakistan to use its influence over the Taliban. In January 2000, Assistant Secretary of State Karl Inderfurth and the State Department's counterterrorism coordinator, Michael Sheehan, met with General Musharraf in Islamabad, dangling before him the possibility of a presidential visit in March as a reward for Pakistani cooperation. Such a visit was coveted by Musharraf, partly as a sign of his government's legitimacy. He told the two envoys that he would meet with Mullah Omar and press him on  Bin Laden. They left, however, reporting to Washington that Pakistan was unlikely in fact to do anything,\" given what it sees as the benefits of Taliban control of Afghanistan.\" President Clinton was scheduled to travel to India. The State Department felt that he should not visit India without also visiting Pakistan. The Secret Service and the CIA, however, warned in the strongest terms that visiting Pakistan would risk the President's life. Counterterrorism officials also argued that Pakistan had not done enough to merit a presidential visit. But President Clinton insisted on including Pakistan in the itinerary for his trip to South Asia. His one-day stopover on March 25, 2000, was the first time a U.S. president had been there since 1969. At his meeting with Musharraf and others, President Clinton concentrated on tensions between Pakistan and India and the dangers of nuclear proliferation, but also discussed  Bin Laden. President Clinton told us that when he pulled Musharraf aside for a brief, one-on-one meeting, he pleaded with the general for help regarding  Bin Laden.\" I offered him the moon when I went to see him, in terms of better relations with the United States, if he'd help us get  Bin Laden and deal with another issue or two.\" The U.S. effort continued. \n",
      "Question: Who were the U. S. envoys General Musharraf told that he would meet with Mullah Omar and press him on  Bin Laden?\n",
      "Response: The State Department\n",
      "Answer:True\n",
      "\n",
      "\n",
      "Paragraph: While this\n"
     ]
    }
   ],
   "source": [
    "query = ''\n",
    "for i in range(5):\n",
    "    query += example_prompt[i] + '\\n\\n'\n",
    "query += example_prompt[5]\n",
    "\n",
    "n1 = len(tokenizer(query).input_ids)\n",
    "print(n1)\n",
    "\n",
    "pipe = pipeline(task=\"text-generation\", model=model,\\\n",
    "                tokenizer=tokenizer, do_sample=False,\\\n",
    "                max_length= n1+10)\n",
    "# result = pipe(f\"<s>[INST]{query}[/INST]\")\n",
    "result = pipe(query)\n",
    "print(result[0]['generated_text'])\n"
   ]
  },
  {
   "cell_type": "code",
   "execution_count": 67,
   "metadata": {},
   "outputs": [
    {
     "data": {
      "text/plain": [
       "torch.Size([1, 3157])"
      ]
     },
     "execution_count": 67,
     "metadata": {},
     "output_type": "execute_result"
    }
   ],
   "source": [
    "input_ids = tokenizer(query, return_tensors='pt').input_ids\n",
    "input_ids = input_ids.to(device=0)\n",
    "\n",
    "input_ids.size()\n"
   ]
  },
  {
   "cell_type": "code",
   "execution_count": 75,
   "metadata": {},
   "outputs": [
    {
     "name": "stdout",
     "output_type": "stream",
     "text": [
      "Par\n"
     ]
    }
   ],
   "source": [
    "input_ids = torch.concat([input_ids, torch.argmax(answers[-1]).view(1,1)],dim = 1)\n",
    "with torch.no_grad():\n",
    "    output = model(input_ids)\n",
    "    answers = output.logits.squeeze()\n",
    "\n",
    "print(tokenizer.decode(torch.argmax(answers[-1])))\n"
   ]
  }
 ],
 "metadata": {
  "kernelspec": {
   "display_name": "pytorch",
   "language": "python",
   "name": "python3"
  },
  "language_info": {
   "codemirror_mode": {
    "name": "ipython",
    "version": 3
   },
   "file_extension": ".py",
   "mimetype": "text/x-python",
   "name": "python",
   "nbconvert_exporter": "python",
   "pygments_lexer": "ipython3",
   "version": "3.10.12"
  },
  "orig_nbformat": 4
 },
 "nbformat": 4,
 "nbformat_minor": 2
}
