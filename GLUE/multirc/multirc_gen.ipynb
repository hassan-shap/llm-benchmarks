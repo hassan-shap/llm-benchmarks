{
 "cells": [
  {
   "cell_type": "code",
   "execution_count": 18,
   "metadata": {},
   "outputs": [],
   "source": [
    "from datasets import load_dataset, concatenate_datasets\n",
    "import json\n",
    "import torch\n",
    "from datasets.utils.logging import disable_progress_bar,enable_progress_bar\n",
    "\n",
    "dataset_name = \"super_glue\"  # The MMLU dataset name in Hugging Face Datasets\n",
    "dataset = load_dataset(dataset_name, name='multirc')#[\"train\"]\n",
    "# print(dataset)\n",
    "\n",
    "labels = dataset[\"train\"].features[\"label\"]\n",
    "# def create_label_str(batch):\n",
    "#     return {\"label_str\": labels.int2str(batch[\"label\"])}\n",
    "def create_label_str(example):\n",
    "    return {\"label_str\": \"True\" if example[\"label\"]== 1 else \"False\"}\n",
    "# print(labels)\n"
   ]
  },
  {
   "cell_type": "code",
   "execution_count": 7,
   "metadata": {},
   "outputs": [
    {
     "name": "stdout",
     "output_type": "stream",
     "text": [
      "{'paragraph': 'While this process moved along, diplomacy continued its rounds. Direct pressure on the Taliban had proved unsuccessful. As one NSC staff note put it, \"Under the Taliban, Afghanistan is not so much a state sponsor of terrorism as it is a state sponsored by terrorists.\" In early 2000, the United States began a high-level effort to persuade Pakistan to use its influence over the Taliban. In January 2000, Assistant Secretary of State Karl Inderfurth and the State Department\\'s counterterrorism coordinator, Michael Sheehan, met with General Musharraf in Islamabad, dangling before him the possibility of a presidential visit in March as a reward for Pakistani cooperation. Such a visit was coveted by Musharraf, partly as a sign of his government\\'s legitimacy. He told the two envoys that he would meet with Mullah Omar and press him on  Bin Laden. They left, however, reporting to Washington that Pakistan was unlikely in fact to do anything,\" given what it sees as the benefits of Taliban control of Afghanistan.\" President Clinton was scheduled to travel to India. The State Department felt that he should not visit India without also visiting Pakistan. The Secret Service and the CIA, however, warned in the strongest terms that visiting Pakistan would risk the President\\'s life. Counterterrorism officials also argued that Pakistan had not done enough to merit a presidential visit. But President Clinton insisted on including Pakistan in the itinerary for his trip to South Asia. His one-day stopover on March 25, 2000, was the first time a U.S. president had been there since 1969. At his meeting with Musharraf and others, President Clinton concentrated on tensions between Pakistan and India and the dangers of nuclear proliferation, but also discussed  Bin Laden. President Clinton told us that when he pulled Musharraf aside for a brief, one-on-one meeting, he pleaded with the general for help regarding  Bin Laden.\" I offered him the moon when I went to see him, in terms of better relations with the United States, if he\\'d help us get  Bin Laden and deal with another issue or two.\" The U.S. effort continued. ', 'question': 'What did the high-level effort to persuade Pakistan include?', 'answer': 'Children, Gerd, or Dorian Popa', 'idx': {'paragraph': 0, 'question': 0, 'answer': 0}, 'label': 0}\n",
      "{'paragraph': 'While this process moved along, diplomacy continued its rounds. Direct pressure on the Taliban had proved unsuccessful. As one NSC staff note put it, \"Under the Taliban, Afghanistan is not so much a state sponsor of terrorism as it is a state sponsored by terrorists.\" In early 2000, the United States began a high-level effort to persuade Pakistan to use its influence over the Taliban. In January 2000, Assistant Secretary of State Karl Inderfurth and the State Department\\'s counterterrorism coordinator, Michael Sheehan, met with General Musharraf in Islamabad, dangling before him the possibility of a presidential visit in March as a reward for Pakistani cooperation. Such a visit was coveted by Musharraf, partly as a sign of his government\\'s legitimacy. He told the two envoys that he would meet with Mullah Omar and press him on  Bin Laden. They left, however, reporting to Washington that Pakistan was unlikely in fact to do anything,\" given what it sees as the benefits of Taliban control of Afghanistan.\" President Clinton was scheduled to travel to India. The State Department felt that he should not visit India without also visiting Pakistan. The Secret Service and the CIA, however, warned in the strongest terms that visiting Pakistan would risk the President\\'s life. Counterterrorism officials also argued that Pakistan had not done enough to merit a presidential visit. But President Clinton insisted on including Pakistan in the itinerary for his trip to South Asia. His one-day stopover on March 25, 2000, was the first time a U.S. president had been there since 1969. At his meeting with Musharraf and others, President Clinton concentrated on tensions between Pakistan and India and the dangers of nuclear proliferation, but also discussed  Bin Laden. President Clinton told us that when he pulled Musharraf aside for a brief, one-on-one meeting, he pleaded with the general for help regarding  Bin Laden.\" I offered him the moon when I went to see him, in terms of better relations with the United States, if he\\'d help us get  Bin Laden and deal with another issue or two.\" The U.S. effort continued. ', 'question': 'What did the high-level effort to persuade Pakistan include?', 'answer': 'Monetary rewards', 'idx': {'paragraph': 0, 'question': 0, 'answer': 1}, 'label': 0}\n",
      "{'paragraph': 'While this process moved along, diplomacy continued its rounds. Direct pressure on the Taliban had proved unsuccessful. As one NSC staff note put it, \"Under the Taliban, Afghanistan is not so much a state sponsor of terrorism as it is a state sponsored by terrorists.\" In early 2000, the United States began a high-level effort to persuade Pakistan to use its influence over the Taliban. In January 2000, Assistant Secretary of State Karl Inderfurth and the State Department\\'s counterterrorism coordinator, Michael Sheehan, met with General Musharraf in Islamabad, dangling before him the possibility of a presidential visit in March as a reward for Pakistani cooperation. Such a visit was coveted by Musharraf, partly as a sign of his government\\'s legitimacy. He told the two envoys that he would meet with Mullah Omar and press him on  Bin Laden. They left, however, reporting to Washington that Pakistan was unlikely in fact to do anything,\" given what it sees as the benefits of Taliban control of Afghanistan.\" President Clinton was scheduled to travel to India. The State Department felt that he should not visit India without also visiting Pakistan. The Secret Service and the CIA, however, warned in the strongest terms that visiting Pakistan would risk the President\\'s life. Counterterrorism officials also argued that Pakistan had not done enough to merit a presidential visit. But President Clinton insisted on including Pakistan in the itinerary for his trip to South Asia. His one-day stopover on March 25, 2000, was the first time a U.S. president had been there since 1969. At his meeting with Musharraf and others, President Clinton concentrated on tensions between Pakistan and India and the dangers of nuclear proliferation, but also discussed  Bin Laden. President Clinton told us that when he pulled Musharraf aside for a brief, one-on-one meeting, he pleaded with the general for help regarding  Bin Laden.\" I offered him the moon when I went to see him, in terms of better relations with the United States, if he\\'d help us get  Bin Laden and deal with another issue or two.\" The U.S. effort continued. ', 'question': 'What did the high-level effort to persuade Pakistan include?', 'answer': 'Asking Pakistan to help the USA', 'idx': {'paragraph': 0, 'question': 0, 'answer': 2}, 'label': 1}\n",
      "{'paragraph': 'While this process moved along, diplomacy continued its rounds. Direct pressure on the Taliban had proved unsuccessful. As one NSC staff note put it, \"Under the Taliban, Afghanistan is not so much a state sponsor of terrorism as it is a state sponsored by terrorists.\" In early 2000, the United States began a high-level effort to persuade Pakistan to use its influence over the Taliban. In January 2000, Assistant Secretary of State Karl Inderfurth and the State Department\\'s counterterrorism coordinator, Michael Sheehan, met with General Musharraf in Islamabad, dangling before him the possibility of a presidential visit in March as a reward for Pakistani cooperation. Such a visit was coveted by Musharraf, partly as a sign of his government\\'s legitimacy. He told the two envoys that he would meet with Mullah Omar and press him on  Bin Laden. They left, however, reporting to Washington that Pakistan was unlikely in fact to do anything,\" given what it sees as the benefits of Taliban control of Afghanistan.\" President Clinton was scheduled to travel to India. The State Department felt that he should not visit India without also visiting Pakistan. The Secret Service and the CIA, however, warned in the strongest terms that visiting Pakistan would risk the President\\'s life. Counterterrorism officials also argued that Pakistan had not done enough to merit a presidential visit. But President Clinton insisted on including Pakistan in the itinerary for his trip to South Asia. His one-day stopover on March 25, 2000, was the first time a U.S. president had been there since 1969. At his meeting with Musharraf and others, President Clinton concentrated on tensions between Pakistan and India and the dangers of nuclear proliferation, but also discussed  Bin Laden. President Clinton told us that when he pulled Musharraf aside for a brief, one-on-one meeting, he pleaded with the general for help regarding  Bin Laden.\" I offered him the moon when I went to see him, in terms of better relations with the United States, if he\\'d help us get  Bin Laden and deal with another issue or two.\" The U.S. effort continued. ', 'question': 'What did the high-level effort to persuade Pakistan include?', 'answer': 'Meeting with General Musharraf', 'idx': {'paragraph': 0, 'question': 0, 'answer': 3}, 'label': 1}\n",
      "{'paragraph': 'While this process moved along, diplomacy continued its rounds. Direct pressure on the Taliban had proved unsuccessful. As one NSC staff note put it, \"Under the Taliban, Afghanistan is not so much a state sponsor of terrorism as it is a state sponsored by terrorists.\" In early 2000, the United States began a high-level effort to persuade Pakistan to use its influence over the Taliban. In January 2000, Assistant Secretary of State Karl Inderfurth and the State Department\\'s counterterrorism coordinator, Michael Sheehan, met with General Musharraf in Islamabad, dangling before him the possibility of a presidential visit in March as a reward for Pakistani cooperation. Such a visit was coveted by Musharraf, partly as a sign of his government\\'s legitimacy. He told the two envoys that he would meet with Mullah Omar and press him on  Bin Laden. They left, however, reporting to Washington that Pakistan was unlikely in fact to do anything,\" given what it sees as the benefits of Taliban control of Afghanistan.\" President Clinton was scheduled to travel to India. The State Department felt that he should not visit India without also visiting Pakistan. The Secret Service and the CIA, however, warned in the strongest terms that visiting Pakistan would risk the President\\'s life. Counterterrorism officials also argued that Pakistan had not done enough to merit a presidential visit. But President Clinton insisted on including Pakistan in the itinerary for his trip to South Asia. His one-day stopover on March 25, 2000, was the first time a U.S. president had been there since 1969. At his meeting with Musharraf and others, President Clinton concentrated on tensions between Pakistan and India and the dangers of nuclear proliferation, but also discussed  Bin Laden. President Clinton told us that when he pulled Musharraf aside for a brief, one-on-one meeting, he pleaded with the general for help regarding  Bin Laden.\" I offered him the moon when I went to see him, in terms of better relations with the United States, if he\\'d help us get  Bin Laden and deal with another issue or two.\" The U.S. effort continued. ', 'question': 'What did the high-level effort to persuade Pakistan include?', 'answer': 'President Clinton offered the moon in terms of better relations with the United States', 'idx': {'paragraph': 0, 'question': 0, 'answer': 4}, 'label': 1}\n",
      "{'paragraph': 'While this process moved along, diplomacy continued its rounds. Direct pressure on the Taliban had proved unsuccessful. As one NSC staff note put it, \"Under the Taliban, Afghanistan is not so much a state sponsor of terrorism as it is a state sponsored by terrorists.\" In early 2000, the United States began a high-level effort to persuade Pakistan to use its influence over the Taliban. In January 2000, Assistant Secretary of State Karl Inderfurth and the State Department\\'s counterterrorism coordinator, Michael Sheehan, met with General Musharraf in Islamabad, dangling before him the possibility of a presidential visit in March as a reward for Pakistani cooperation. Such a visit was coveted by Musharraf, partly as a sign of his government\\'s legitimacy. He told the two envoys that he would meet with Mullah Omar and press him on  Bin Laden. They left, however, reporting to Washington that Pakistan was unlikely in fact to do anything,\" given what it sees as the benefits of Taliban control of Afghanistan.\" President Clinton was scheduled to travel to India. The State Department felt that he should not visit India without also visiting Pakistan. The Secret Service and the CIA, however, warned in the strongest terms that visiting Pakistan would risk the President\\'s life. Counterterrorism officials also argued that Pakistan had not done enough to merit a presidential visit. But President Clinton insisted on including Pakistan in the itinerary for his trip to South Asia. His one-day stopover on March 25, 2000, was the first time a U.S. president had been there since 1969. At his meeting with Musharraf and others, President Clinton concentrated on tensions between Pakistan and India and the dangers of nuclear proliferation, but also discussed  Bin Laden. President Clinton told us that when he pulled Musharraf aside for a brief, one-on-one meeting, he pleaded with the general for help regarding  Bin Laden.\" I offered him the moon when I went to see him, in terms of better relations with the United States, if he\\'d help us get  Bin Laden and deal with another issue or two.\" The U.S. effort continued. ', 'question': 'What did the high-level effort to persuade Pakistan include?', 'answer': 'A Presidential visit in March', 'idx': {'paragraph': 0, 'question': 0, 'answer': 5}, 'label': 0}\n",
      "{'paragraph': 'While this process moved along, diplomacy continued its rounds. Direct pressure on the Taliban had proved unsuccessful. As one NSC staff note put it, \"Under the Taliban, Afghanistan is not so much a state sponsor of terrorism as it is a state sponsored by terrorists.\" In early 2000, the United States began a high-level effort to persuade Pakistan to use its influence over the Taliban. In January 2000, Assistant Secretary of State Karl Inderfurth and the State Department\\'s counterterrorism coordinator, Michael Sheehan, met with General Musharraf in Islamabad, dangling before him the possibility of a presidential visit in March as a reward for Pakistani cooperation. Such a visit was coveted by Musharraf, partly as a sign of his government\\'s legitimacy. He told the two envoys that he would meet with Mullah Omar and press him on  Bin Laden. They left, however, reporting to Washington that Pakistan was unlikely in fact to do anything,\" given what it sees as the benefits of Taliban control of Afghanistan.\" President Clinton was scheduled to travel to India. The State Department felt that he should not visit India without also visiting Pakistan. The Secret Service and the CIA, however, warned in the strongest terms that visiting Pakistan would risk the President\\'s life. Counterterrorism officials also argued that Pakistan had not done enough to merit a presidential visit. But President Clinton insisted on including Pakistan in the itinerary for his trip to South Asia. His one-day stopover on March 25, 2000, was the first time a U.S. president had been there since 1969. At his meeting with Musharraf and others, President Clinton concentrated on tensions between Pakistan and India and the dangers of nuclear proliferation, but also discussed  Bin Laden. President Clinton told us that when he pulled Musharraf aside for a brief, one-on-one meeting, he pleaded with the general for help regarding  Bin Laden.\" I offered him the moon when I went to see him, in terms of better relations with the United States, if he\\'d help us get  Bin Laden and deal with another issue or two.\" The U.S. effort continued. ', 'question': 'What did the high-level effort to persuade Pakistan include?', 'answer': 'Paper checks', 'idx': {'paragraph': 0, 'question': 0, 'answer': 6}, 'label': 1}\n",
      "{'paragraph': 'While this process moved along, diplomacy continued its rounds. Direct pressure on the Taliban had proved unsuccessful. As one NSC staff note put it, \"Under the Taliban, Afghanistan is not so much a state sponsor of terrorism as it is a state sponsored by terrorists.\" In early 2000, the United States began a high-level effort to persuade Pakistan to use its influence over the Taliban. In January 2000, Assistant Secretary of State Karl Inderfurth and the State Department\\'s counterterrorism coordinator, Michael Sheehan, met with General Musharraf in Islamabad, dangling before him the possibility of a presidential visit in March as a reward for Pakistani cooperation. Such a visit was coveted by Musharraf, partly as a sign of his government\\'s legitimacy. He told the two envoys that he would meet with Mullah Omar and press him on  Bin Laden. They left, however, reporting to Washington that Pakistan was unlikely in fact to do anything,\" given what it sees as the benefits of Taliban control of Afghanistan.\" President Clinton was scheduled to travel to India. The State Department felt that he should not visit India without also visiting Pakistan. The Secret Service and the CIA, however, warned in the strongest terms that visiting Pakistan would risk the President\\'s life. Counterterrorism officials also argued that Pakistan had not done enough to merit a presidential visit. But President Clinton insisted on including Pakistan in the itinerary for his trip to South Asia. His one-day stopover on March 25, 2000, was the first time a U.S. president had been there since 1969. At his meeting with Musharraf and others, President Clinton concentrated on tensions between Pakistan and India and the dangers of nuclear proliferation, but also discussed  Bin Laden. President Clinton told us that when he pulled Musharraf aside for a brief, one-on-one meeting, he pleaded with the general for help regarding  Bin Laden.\" I offered him the moon when I went to see him, in terms of better relations with the United States, if he\\'d help us get  Bin Laden and deal with another issue or two.\" The U.S. effort continued. ', 'question': 'What did the high-level effort to persuade Pakistan include?', 'answer': 'Increasing trade with Pakistan', 'idx': {'paragraph': 0, 'question': 0, 'answer': 7}, 'label': 0}\n",
      "{'paragraph': 'While this process moved along, diplomacy continued its rounds. Direct pressure on the Taliban had proved unsuccessful. As one NSC staff note put it, \"Under the Taliban, Afghanistan is not so much a state sponsor of terrorism as it is a state sponsored by terrorists.\" In early 2000, the United States began a high-level effort to persuade Pakistan to use its influence over the Taliban. In January 2000, Assistant Secretary of State Karl Inderfurth and the State Department\\'s counterterrorism coordinator, Michael Sheehan, met with General Musharraf in Islamabad, dangling before him the possibility of a presidential visit in March as a reward for Pakistani cooperation. Such a visit was coveted by Musharraf, partly as a sign of his government\\'s legitimacy. He told the two envoys that he would meet with Mullah Omar and press him on  Bin Laden. They left, however, reporting to Washington that Pakistan was unlikely in fact to do anything,\" given what it sees as the benefits of Taliban control of Afghanistan.\" President Clinton was scheduled to travel to India. The State Department felt that he should not visit India without also visiting Pakistan. The Secret Service and the CIA, however, warned in the strongest terms that visiting Pakistan would risk the President\\'s life. Counterterrorism officials also argued that Pakistan had not done enough to merit a presidential visit. But President Clinton insisted on including Pakistan in the itinerary for his trip to South Asia. His one-day stopover on March 25, 2000, was the first time a U.S. president had been there since 1969. At his meeting with Musharraf and others, President Clinton concentrated on tensions between Pakistan and India and the dangers of nuclear proliferation, but also discussed  Bin Laden. President Clinton told us that when he pulled Musharraf aside for a brief, one-on-one meeting, he pleaded with the general for help regarding  Bin Laden.\" I offered him the moon when I went to see him, in terms of better relations with the United States, if he\\'d help us get  Bin Laden and deal with another issue or two.\" The U.S. effort continued. ', 'question': 'What did the high-level effort to persuade Pakistan include?', 'answer': 'Persuading Pakistan to use its influence over the Taliban by dangling before him the possibility of a presidential visit in March as a reward for Pakistani cooperation', 'idx': {'paragraph': 0, 'question': 0, 'answer': 8}, 'label': 1}\n"
     ]
    }
   ],
   "source": [
    "d1 = dataset[\"train\"].filter(lambda example: example['idx']['question']==0)\n",
    "for q in d1:\n",
    "    print(q)"
   ]
  },
  {
   "cell_type": "code",
   "execution_count": 20,
   "metadata": {},
   "outputs": [
    {
     "name": "stdout",
     "output_type": "stream",
     "text": [
      "1000 31091\n"
     ]
    }
   ],
   "source": [
    "# data_train = dataset[\"train\"].map(create_label_str)   \n",
    "# data_test = dataset[\"validation\"].map(create_label_str)   \n",
    "# # print(d1)\n",
    "# # dd = d1.select(range(5)).shuffle()\n",
    "\n",
    "d1 = dataset[\"train\"].map(create_label_str)   \n",
    "d2 = dataset[\"validation\"].map(create_label_str)   \n",
    "\n",
    "d_all = concatenate_datasets([d1,d2])\n",
    "train_size = 1000\n",
    "data_train = d_all.select(range(train_size))\n",
    "data_test = d_all.select(range(train_size,d_all.num_rows))\n",
    "\n",
    "print(data_train.num_rows, data_test.num_rows)\n",
    "\n",
    "# prepare examples\n",
    "example_prompt = []\n",
    "for ex in range(6):\n",
    "    dd = data_train.filter(lambda example: example['idx']['question']==ex)\n",
    "    prompt = \"Paragraph: \" + dd[0]['paragraph'] + '\\n'\n",
    "    prompt += \"Question: \" + dd[0]['question'] + '\\n'\n",
    "    # prompt += \"Candidate answers:\\n\"\n",
    "    # prompt += \"Statement: \"\n",
    "    prompt += \"Determine whether the following items are True or False. \\n\"\n",
    "    for idx in range(dd.num_rows):\n",
    "    # for idx in [0]:\n",
    "        prompt += dd[idx]['answer'] + '\\n'\n",
    "    prompt += \"Answer:\"\n",
    "    if ex< 4:\n",
    "        for idx in range(dd.num_rows-1):\n",
    "        # for idx in [0]:\n",
    "            prompt += dd[idx]['label_str'] # + ','\n",
    "        prompt += dd[idx]['label_str'] #+ '\\n\\n'\n",
    "    example_prompt.append(prompt)"
   ]
  },
  {
   "cell_type": "code",
   "execution_count": 22,
   "metadata": {},
   "outputs": [],
   "source": [
    "\n",
    "def json_writer(JSON_PATH, num_qs, n_shot_example,seed=10,space=False):\n",
    "    qlist = {}\n",
    "    \n",
    "    with open(JSON_PATH, 'w') as json_file:\n",
    "\n",
    "        for ind in range(num_qs):\n",
    "            idx_ex_shuffle = torch.randperm(5)\n",
    "            init_prompt = ''\n",
    "            for i in range(n_shot_example):\n",
    "                init_prompt +=  example_prompt[idx_ex_shuffle[i]] + '\\n\\n'\n",
    "\n",
    "            dd = data_test.filter(lambda example: example['idx']['question']==ind)\n",
    "\n",
    "            init_prompt += \"Paragraph: \" + dd[0]['paragraph'] + '\\n'\n",
    "            prompt = init_prompt\n",
    "            for idx_q in range(dd.num_rows):\n",
    "                prompt += \"Question: \" + dd[idx_q]['question'] + '\\n'\n",
    "                prompt += \"Response: \" + dd[idx_q]['answer'] + '\\n'\n",
    "                \n",
    "                qlist['question'] = ind\n",
    "                qlist['input'] = prompt\n",
    "                qlist['target_str'] = dd[idx_q]['label_str']\n",
    "                qlist['target'] = dd[idx_q]['label']\n",
    "\n",
    "                 # Serializing json\n",
    "                json_file.write(json.dumps(qlist) + '\\n')\n",
    "        # print(\"Done!\")"
   ]
  },
  {
   "cell_type": "code",
   "execution_count": 23,
   "metadata": {},
   "outputs": [
    {
     "name": "stdout",
     "output_type": "stream",
     "text": [
      "0-shot example is being generated...\n"
     ]
    },
    {
     "ename": "KeyError",
     "evalue": "'passage'",
     "output_type": "error",
     "traceback": [
      "\u001b[0;31m---------------------------------------------------------------------------\u001b[0m",
      "\u001b[0;31mKeyError\u001b[0m                                  Traceback (most recent call last)",
      "Cell \u001b[0;32mIn[23], line 13\u001b[0m\n\u001b[1;32m     10\u001b[0m     fname_json \u001b[39m=\u001b[39m \u001b[39mf\u001b[39m\u001b[39m\"\u001b[39m\u001b[39mmultirc-data/\u001b[39m\u001b[39m{\u001b[39;00mn_shot\u001b[39m}\u001b[39;00m\u001b[39m_shot_examples.json\u001b[39m\u001b[39m\"\u001b[39m\n\u001b[1;32m     11\u001b[0m     \u001b[39m# fname_json = f\"boolq-data/{n_shot}_shot_examples_small.json\"\u001b[39;00m\n\u001b[1;32m     12\u001b[0m     \u001b[39m# JSON_eval = 'sample_eval.json'\u001b[39;00m\n\u001b[0;32m---> 13\u001b[0m     json_writer(fname_json, n_example, n_shot, seed\u001b[39m=\u001b[39;49mseed, space\u001b[39m=\u001b[39;49m \u001b[39mFalse\u001b[39;49;00m)\n\u001b[1;32m     14\u001b[0m     \u001b[39m# json_writer(JSON_eval,example_idx[(n_shot_example+1)*n_test_ex:])\u001b[39;00m\n\u001b[1;32m     16\u001b[0m enable_progress_bar()\n",
      "Cell \u001b[0;32mIn[22], line 14\u001b[0m, in \u001b[0;36mjson_writer\u001b[0;34m(JSON_PATH, num_qs, n_shot_example, seed, space)\u001b[0m\n\u001b[1;32m     10\u001b[0m     init_prompt \u001b[39m+\u001b[39m\u001b[39m=\u001b[39m  example_prompt[idx_ex_shuffle[i]] \u001b[39m+\u001b[39m \u001b[39m'\u001b[39m\u001b[39m\\n\u001b[39;00m\u001b[39m\\n\u001b[39;00m\u001b[39m'\u001b[39m\n\u001b[1;32m     12\u001b[0m dd \u001b[39m=\u001b[39m data_test\u001b[39m.\u001b[39mfilter(\u001b[39mlambda\u001b[39;00m example: example[\u001b[39m'\u001b[39m\u001b[39midx\u001b[39m\u001b[39m'\u001b[39m][\u001b[39m'\u001b[39m\u001b[39mquestion\u001b[39m\u001b[39m'\u001b[39m]\u001b[39m==\u001b[39mind)\n\u001b[0;32m---> 14\u001b[0m init_prompt \u001b[39m+\u001b[39m\u001b[39m=\u001b[39m \u001b[39m\"\u001b[39m\u001b[39mPassage: \u001b[39m\u001b[39m\"\u001b[39m \u001b[39m+\u001b[39m dd[\u001b[39m0\u001b[39;49m][\u001b[39m'\u001b[39;49m\u001b[39mpassage\u001b[39;49m\u001b[39m'\u001b[39;49m] \u001b[39m+\u001b[39m \u001b[39m'\u001b[39m\u001b[39m\\n\u001b[39;00m\u001b[39m'\u001b[39m\n\u001b[1;32m     15\u001b[0m prompt \u001b[39m=\u001b[39m init_prompt\n\u001b[1;32m     16\u001b[0m \u001b[39mfor\u001b[39;00m idx_q \u001b[39min\u001b[39;00m \u001b[39mrange\u001b[39m(dd\u001b[39m.\u001b[39mnum_rows):\n",
      "\u001b[0;31mKeyError\u001b[0m: 'passage'"
     ]
    }
   ],
   "source": [
    "disable_progress_bar()\n",
    "\n",
    "# print(example_idx)\n",
    "n_example = 10#data_test.num_rows\n",
    "n_shot_vals = [2]\n",
    "seed = 123\n",
    "for n_shot in range(6):\n",
    "# for n_shot in n_shot_vals:\n",
    "    print(f\"{n_shot}-shot example is being generated...\")\n",
    "    fname_json = f\"multirc-data/{n_shot}_shot_examples.json\"\n",
    "    # fname_json = f\"boolq-data/{n_shot}_shot_examples_small.json\"\n",
    "    # JSON_eval = 'sample_eval.json'\n",
    "    json_writer(fname_json, n_example, n_shot, seed=seed, space= False)\n",
    "    # json_writer(JSON_eval,example_idx[(n_shot_example+1)*n_test_ex:])\n",
    "\n",
    "enable_progress_bar()\n"
   ]
  },
  {
   "cell_type": "code",
   "execution_count": 4,
   "metadata": {},
   "outputs": [
    {
     "name": "stderr",
     "output_type": "stream",
     "text": [
      "Downloading data files: 100%|██████████| 1/1 [00:00<00:00, 7476.48it/s]\n",
      "Extracting data files: 100%|██████████| 1/1 [00:00<00:00, 1433.95it/s]\n",
      "Generating dev split: 3270 examples [00:00, 158649.11 examples/s]"
     ]
    },
    {
     "name": "stdout",
     "output_type": "stream",
     "text": [
      "Passage: Phantom pain -- Phantom pain sensations are described as perceptions that an individual experiences relating to a limb or an organ that is not physically part of the body. Limb loss is a result of either removal by amputation or congenital limb deficiency. However, phantom limb sensations can also occur following nerve avulsion or spinal cord injury.\n",
      "Question: is pain experienced in a missing body part or paralyzed area\n",
      "Answer:\n"
     ]
    },
    {
     "name": "stderr",
     "output_type": "stream",
     "text": [
      "\n"
     ]
    }
   ],
   "source": [
    "# fname_json = f\"mmlu-data/ex_no_space.json\"\n",
    "n_shot = 0\n",
    "d1 = load_dataset(\"json\", data_files={\n",
    "        'dev' : f\"boolq-data/{n_shot}_shot_examples.json\"\n",
    "    })\n",
    "# print(d1['dev'])\n",
    "# print(d1['dev'].filter(lambda example: example[\"subject\"] == subject))\n",
    "# d2 = d1['dev'].filter(lambda example: example[\"subject\"] == subject)\n",
    "# # print(d2['input'][0][-1])\n",
    "# # print(\"---------\")\n",
    "print(d1['dev'][2]['input'])"
   ]
  },
  {
   "cell_type": "code",
   "execution_count": 11,
   "metadata": {},
   "outputs": [
    {
     "name": "stderr",
     "output_type": "stream",
     "text": [
      "Downloading data files: 100%|██████████| 6/6 [00:00<00:00, 20543.53it/s]\n",
      "Extracting data files: 100%|██████████| 6/6 [00:00<00:00, 2024.77it/s]\n",
      "Generating 0_shot split: 100 examples [00:00, 38178.63 examples/s]\n",
      "Generating 1_shot split: 100 examples [00:00, 46644.84 examples/s]\n",
      "Generating 2_shot split: 100 examples [00:00, 24292.27 examples/s]\n",
      "Generating 3_shot split: 100 examples [00:00, 30995.45 examples/s]\n",
      "Generating 4_shot split: 100 examples [00:00, 21987.33 examples/s]\n",
      "Generating 5_shot split: 100 examples [00:00, 16446.32 examples/s]\n"
     ]
    }
   ],
   "source": [
    "from datasets import DatasetDict, Dataset\n",
    "from collections import defaultdict\n",
    "\n",
    "fname_dict = {}\n",
    "for n_shot in range(6):\n",
    "    fname_dict[f\"{n_shot}_shot\"] = f\"boolq-data/{n_shot}_shot_examples.json\"\n",
    "# data_all = defaultdict(DatasetDict)\n",
    "d_upload = load_dataset(\"json\", data_files=fname_dict)\n",
    "    # data_all[f\"n_shot = {n_shot}\"] = d1['dev']\n"
   ]
  },
  {
   "cell_type": "code",
   "execution_count": 12,
   "metadata": {},
   "outputs": [
    {
     "name": "stderr",
     "output_type": "stream",
     "text": [
      "Creating parquet from Arrow format: 100%|██████████| 1/1 [00:00<00:00, 527.98ba/s]\n",
      "Uploading the dataset shards: 100%|██████████| 1/1 [00:11<00:00, 11.24s/it]\n",
      "Creating parquet from Arrow format: 100%|██████████| 1/1 [00:00<00:00, 887.50ba/s]\n",
      "Uploading the dataset shards: 100%|██████████| 1/1 [00:13<00:00, 13.85s/it]\n",
      "Creating parquet from Arrow format: 100%|██████████| 1/1 [00:00<00:00, 605.06ba/s]\n",
      "Uploading the dataset shards: 100%|██████████| 1/1 [00:11<00:00, 11.29s/it]\n",
      "Creating parquet from Arrow format: 100%|██████████| 1/1 [00:00<00:00, 447.73ba/s]\n",
      "Uploading the dataset shards: 100%|██████████| 1/1 [00:12<00:00, 12.45s/it]\n",
      "Creating parquet from Arrow format: 100%|██████████| 1/1 [00:00<00:00, 277.86ba/s]\n",
      "Uploading the dataset shards: 100%|██████████| 1/1 [00:13<00:00, 13.92s/it]\n",
      "Creating parquet from Arrow format: 100%|██████████| 1/1 [00:00<00:00, 583.76ba/s]\n",
      "Uploading the dataset shards: 100%|██████████| 1/1 [00:09<00:00,  9.19s/it]\n",
      "README.md: 100%|██████████| 1.32k/1.32k [00:00<00:00, 3.12MB/s]\n"
     ]
    }
   ],
   "source": [
    "# print(Dataset.from_dict(data_all))\n",
    "# Dataset.from_dict(data_all).push_to_hub(\"hassansh/boolq_n_shot\")\n",
    "d_upload.push_to_hub(\"hassansh/boolq_n_shot\")\n"
   ]
  },
  {
   "cell_type": "code",
   "execution_count": null,
   "metadata": {},
   "outputs": [
    {
     "name": "stdout",
     "output_type": "stream",
     "text": [
      "Passage: The Elder Scrolls Online -- As with other games in The Elder Scrolls series, the game is set on the continent of Tamriel. The events of the game occur a millennium before those of The Elder Scrolls V: Skyrim and around 800 years before The Elder Scrolls III: Morrowind and The Elder Scrolls IV: Oblivion. It has a broadly similar structure to Skyrim, with two separate conflicts progressing at the same time, one with the fate of the world in the balance, and one where the prize is supreme power on Tamriel. In The Elder Scrolls Online, the first struggle is against the Daedric Prince Molag Bal, who is attempting to meld the plane of Mundus with his realm of Coldharbour, and the second is to capture the vacant imperial throne, contested by three alliances of the mortal races. The player character has been sacrificed to Molag Bal, and Molag Bal has stolen their soul, the recovery of which is the primary game objective.\n",
      "Question: is elder scrolls online the same as skyrim\n",
      "Answer:False\n",
      "\n",
      "Passage: Powdered sugar -- Powdered sugar, also called confectioners' sugar, icing sugar, and icing cake, is a finely ground sugar produced by milling granulated sugar into a powdered state. It usually contains a small amount of anti-caking agent to prevent clumping and improve flow. Although most often produced in a factory, powdered sugar can also be made by processing ordinary granulated sugar in a coffee grinder, or by crushing it by hand in a mortar and pestle.\n",
      "Question: is confectionary sugar the same as powdered sugar\n",
      "Answer:True\n",
      "\n",
      "Passage: Good Samaritan law -- Good Samaritan laws offer legal protection to people who give reasonable assistance to those who are, or who they believe to be, injured, ill, in peril, or otherwise incapacitated. The protection is intended to reduce bystanders' hesitation to assist, for fear of being sued or prosecuted for unintentional injury or wrongful death. An example of such a law in common-law areas of Canada: a good Samaritan doctrine is a legal principle that prevents a rescuer who has voluntarily helped a victim in distress from being successfully sued for wrongdoing. Its purpose is to keep people from being reluctant to help a stranger in need for fear of legal repercussions should they make some mistake in treatment. By contrast, a duty to rescue law requires people to offer assistance and holds those who fail to do so liable.\n",
      "Question: do good samaritan laws protect those who help at an accident\n",
      "Answer:True\n",
      "\n",
      "Passage: Windows Movie Maker -- Windows Movie Maker (formerly known as Windows Live Movie Maker in Windows 7) is a discontinued video editing software by Microsoft. It is a part of Windows Essentials software suite and offers the ability to create and edit videos as well as to publish them on OneDrive, Facebook, Vimeo, YouTube, and Flickr.\n",
      "Question: is windows movie maker part of windows essentials\n",
      "Answer:True\n",
      "\n",
      "Passage: Persian language -- Persian (/ˈpɜːrʒən, -ʃən/), also known by its endonym Farsi (فارسی fārsi (fɒːɾˈsiː) ( listen)), is one of the Western Iranian languages within the Indo-Iranian branch of the Indo-European language family. It is primarily spoken in Iran, Afghanistan (officially known as Dari since 1958), and Tajikistan (officially known as Tajiki since the Soviet era), and some other regions which historically were Persianate societies and considered part of Greater Iran. It is written in the Persian alphabet, a modified variant of the Arabic script, which itself evolved from the Aramaic alphabet.\n",
      "Question: do iran and afghanistan speak the same language\n",
      "Answer:True\n",
      "\n",
      "Passage: Phantom pain -- Phantom pain sensations are described as perceptions that an individual experiences relating to a limb or an organ that is not physically part of the body. Limb loss is a result of either removal by amputation or congenital limb deficiency. However, phantom limb sensations can also occur following nerve avulsion or spinal cord injury.\n",
      "Question: is pain experienced in a missing body part or paralyzed area\n",
      "Answer:\n"
     ]
    }
   ],
   "source": [
    "print(d_upload['5_shot'][2]['input'])"
   ]
  },
  {
   "cell_type": "code",
   "execution_count": 10,
   "metadata": {},
   "outputs": [
    {
     "name": "stdout",
     "output_type": "stream",
     "text": [
      "DatasetDict({\n",
      "    train: Dataset({\n",
      "        features: ['question', 'passage', 'idx', 'label'],\n",
      "        num_rows: 9427\n",
      "    })\n",
      "    validation: Dataset({\n",
      "        features: ['question', 'passage', 'idx', 'label'],\n",
      "        num_rows: 3270\n",
      "    })\n",
      "    test: Dataset({\n",
      "        features: ['question', 'passage', 'idx', 'label'],\n",
      "        num_rows: 3245\n",
      "    })\n",
      "})\n"
     ]
    }
   ],
   "source": [
    "print(dataset)"
   ]
  },
  {
   "cell_type": "code",
   "execution_count": null,
   "metadata": {},
   "outputs": [],
   "source": []
  }
 ],
 "metadata": {
  "kernelspec": {
   "display_name": "pytorch",
   "language": "python",
   "name": "python3"
  },
  "language_info": {
   "codemirror_mode": {
    "name": "ipython",
    "version": 3
   },
   "file_extension": ".py",
   "mimetype": "text/x-python",
   "name": "python",
   "nbconvert_exporter": "python",
   "pygments_lexer": "ipython3",
   "version": "3.10.12"
  },
  "orig_nbformat": 4
 },
 "nbformat": 4,
 "nbformat_minor": 2
}
