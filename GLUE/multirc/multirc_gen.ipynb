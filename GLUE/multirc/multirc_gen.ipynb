{
 "cells": [
  {
   "cell_type": "code",
   "execution_count": 1,
   "metadata": {},
   "outputs": [
    {
     "name": "stderr",
     "output_type": "stream",
     "text": [
      "/home/hshapour/.pyenv/versions/3.10.12/envs/pytorch/lib/python3.10/site-packages/tqdm/auto.py:21: TqdmWarning: IProgress not found. Please update jupyter and ipywidgets. See https://ipywidgets.readthedocs.io/en/stable/user_install.html\n",
      "  from .autonotebook import tqdm as notebook_tqdm\n",
      "Downloading data: 100%|██████████| 1.12M/1.12M [00:00<00:00, 1.99MB/s]\n",
      "Generating train split: 100%|██████████| 27243/27243 [00:01<00:00, 15061.09 examples/s]\n",
      "Generating validation split: 100%|██████████| 4848/4848 [00:00<00:00, 15030.97 examples/s]\n",
      "Generating test split: 100%|██████████| 9693/9693 [00:00<00:00, 15657.15 examples/s]\n"
     ]
    }
   ],
   "source": [
    "from datasets import load_dataset, concatenate_datasets\n",
    "import json\n",
    "import torch\n",
    "from datasets.utils.logging import disable_progress_bar,enable_progress_bar\n",
    "\n",
    "dataset_name = \"super_glue\"  # The MMLU dataset name in Hugging Face Datasets\n",
    "dataset = load_dataset(dataset_name, name='multirc')#[\"train\"]\n",
    "# print(dataset)\n",
    "\n",
    "labels = dataset[\"train\"].features[\"label\"]\n",
    "# def create_label_str(batch):\n",
    "#     return {\"label_str\": labels.int2str(batch[\"label\"])}\n",
    "def create_label_str(example):\n",
    "    return {\"label_str\": \"True\" if example[\"label\"]== 1 else \"False\"}\n",
    "# print(labels)\n"
   ]
  },
  {
   "cell_type": "code",
   "execution_count": 2,
   "metadata": {},
   "outputs": [
    {
     "name": "stderr",
     "output_type": "stream",
     "text": [
      "Map: 100%|██████████| 27243/27243 [00:02<00:00, 12629.22 examples/s]\n",
      "Map: 100%|██████████| 4848/4848 [00:00<00:00, 13973.75 examples/s]\n"
     ]
    },
    {
     "name": "stdout",
     "output_type": "stream",
     "text": [
      "1000 4848\n",
      "tensor([11, 37, 43, 73, 58, 45])\n"
     ]
    },
    {
     "name": "stderr",
     "output_type": "stream",
     "text": [
      "Filter: 100%|██████████| 1000/1000 [00:00<00:00, 45510.62 examples/s]\n",
      "Filter: 100%|██████████| 1000/1000 [00:00<00:00, 48454.33 examples/s]\n",
      "Filter: 100%|██████████| 1000/1000 [00:00<00:00, 48351.00 examples/s]\n",
      "Filter: 100%|██████████| 1000/1000 [00:00<00:00, 48745.47 examples/s]\n",
      "Filter: 100%|██████████| 1000/1000 [00:00<00:00, 48690.02 examples/s]\n",
      "Filter: 100%|██████████| 1000/1000 [00:00<00:00, 48973.13 examples/s]\n"
     ]
    }
   ],
   "source": [
    "# data_train = dataset[\"train\"].map(create_label_str)   \n",
    "# data_test = dataset[\"validation\"].map(create_label_str)   \n",
    "# # print(d1)\n",
    "# # dd = d1.select(range(5)).shuffle()\n",
    "\n",
    "d1 = dataset[\"train\"].map(create_label_str)   \n",
    "data_test = dataset[\"validation\"].map(create_label_str)   \n",
    "\n",
    "# d_all = concatenate_datasets([d1,d2])\n",
    "train_size = 1000\n",
    "data_train = d1.select(range(train_size))\n",
    "# data_test = d_all.select(range(train_size,d_all.num_rows))\n",
    "\n",
    "print(data_train.num_rows, data_test.num_rows)\n",
    "\n",
    "# prepare examples\n",
    "example_prompt = []\n",
    "ex_inds = torch.randint(0, 80,(6,))\n",
    "print(ex_inds)\n",
    "for i, ex in enumerate(ex_inds):\n",
    "    dd = data_train.filter(lambda example: example['idx']['question']==ex)\n",
    "    idx = 0\n",
    "    prompt = \"Paragraph: \" + dd[idx]['paragraph'] + '\\n'\n",
    "    for idx in [0]:\n",
    "        prompt += \"Question: \" + dd[idx]['question'] + '\\n'\n",
    "        prompt += \"Response: \" + dd[idx]['answer'] + '\\n'\n",
    "        prompt += \"Answer:\" + dd[idx]['label_str'] \n",
    "        # prompt += dd[idx]['label_str'] #+ '\\n\\n'\n",
    "    example_prompt.append(prompt)"
   ]
  },
  {
   "cell_type": "code",
   "execution_count": 3,
   "metadata": {},
   "outputs": [
    {
     "name": "stdout",
     "output_type": "stream",
     "text": [
      "953\n"
     ]
    }
   ],
   "source": [
    "disable_progress_bar()\n",
    "num_qs_all = 0\n",
    "step = 100\n",
    "while len(data_test.filter(lambda example: example['idx']['question']==num_qs_all))>0:\n",
    "    num_qs_all += 1\n",
    "    if num_qs_all % step == 0:\n",
    "        print(f\"{num_qs_all//step}\", end='\\r')\n",
    "print(num_qs_all)\n",
    "enable_progress_bar()"
   ]
  },
  {
   "cell_type": "code",
   "execution_count": 20,
   "metadata": {},
   "outputs": [],
   "source": [
    "\n",
    "def json_writer(JSON_PATH, num_qs, n_shot_example,seed=10,space=False):\n",
    "    qlist = {}\n",
    "    \n",
    "    with open(JSON_PATH, 'w') as json_file:\n",
    "\n",
    "        step = 100\n",
    "        # ind = 0\n",
    "        # while len(data_test.filter(lambda example: example['idx']['question']==ind))>0:\n",
    "        for ind in range(num_qs):\n",
    "            ind += 1\n",
    "            if ind % step == 0:\n",
    "                print(f\"{ind//step}\", end='\\r')\n",
    "\n",
    "            idx_ex_shuffle = torch.randperm(5)\n",
    "            init_prompt = \"Based on the paragraph, determine whether the candidate answer is True or False.\"\n",
    "            for i in range(n_shot_example):\n",
    "                init_prompt +=  example_prompt[idx_ex_shuffle[i]] + '\\n\\n'\n",
    "\n",
    "            dd = data_test.filter(lambda example: example['idx']['question']==ind)\n",
    "\n",
    "            init_prompt += \"Paragraph: \" + dd[0]['paragraph'] + '\\n'\n",
    "            for idx_q in range(dd.num_rows):\n",
    "                prompt = init_prompt\n",
    "                prompt += \"Question: \" + dd[idx_q]['question'] + '\\n'\n",
    "                prompt += \"Candidate answer: \" + dd[idx_q]['answer'] + '\\n'\n",
    "                prompt += \"Answer:\"\n",
    "                \n",
    "                qlist['question'] = ind\n",
    "                qlist['input'] = prompt\n",
    "                qlist['target_str'] = dd[idx_q]['label_str']\n",
    "                qlist['target'] = dd[idx_q]['label']\n",
    "\n",
    "                 # Serializing json\n",
    "                json_file.write(json.dumps(qlist) + '\\n')\n",
    "        # print(\"Done!\")"
   ]
  },
  {
   "cell_type": "code",
   "execution_count": 21,
   "metadata": {},
   "outputs": [
    {
     "name": "stdout",
     "output_type": "stream",
     "text": [
      "0-shot example is being generated...\n",
      "7\r"
     ]
    },
    {
     "ename": "KeyboardInterrupt",
     "evalue": "",
     "output_type": "error",
     "traceback": [
      "\u001b[0;31m---------------------------------------------------------------------------\u001b[0m",
      "\u001b[0;31mKeyboardInterrupt\u001b[0m                         Traceback (most recent call last)",
      "Cell \u001b[0;32mIn[21], line 13\u001b[0m\n\u001b[1;32m     10\u001b[0m     fname_json \u001b[39m=\u001b[39m \u001b[39mf\u001b[39m\u001b[39m\"\u001b[39m\u001b[39mmultirc-data/\u001b[39m\u001b[39m{\u001b[39;00mn_shot\u001b[39m}\u001b[39;00m\u001b[39m_shot_examples.json\u001b[39m\u001b[39m\"\u001b[39m\n\u001b[1;32m     11\u001b[0m     \u001b[39m# fname_json = f\"boolq-data/{n_shot}_shot_examples_small.json\"\u001b[39;00m\n\u001b[1;32m     12\u001b[0m     \u001b[39m# JSON_eval = 'sample_eval.json'\u001b[39;00m\n\u001b[0;32m---> 13\u001b[0m     json_writer(fname_json, n_example, n_shot, seed\u001b[39m=\u001b[39;49mseed, space\u001b[39m=\u001b[39;49m \u001b[39mFalse\u001b[39;49;00m)\n\u001b[1;32m     14\u001b[0m     \u001b[39m# json_writer(JSON_eval,example_idx[(n_shot_example+1)*n_test_ex:])\u001b[39;00m\n\u001b[1;32m     16\u001b[0m enable_progress_bar()\n",
      "Cell \u001b[0;32mIn[20], line 19\u001b[0m, in \u001b[0;36mjson_writer\u001b[0;34m(JSON_PATH, num_qs, n_shot_example, seed, space)\u001b[0m\n\u001b[1;32m     16\u001b[0m \u001b[39mfor\u001b[39;00m i \u001b[39min\u001b[39;00m \u001b[39mrange\u001b[39m(n_shot_example):\n\u001b[1;32m     17\u001b[0m     init_prompt \u001b[39m+\u001b[39m\u001b[39m=\u001b[39m  example_prompt[idx_ex_shuffle[i]] \u001b[39m+\u001b[39m \u001b[39m'\u001b[39m\u001b[39m\\n\u001b[39;00m\u001b[39m\\n\u001b[39;00m\u001b[39m'\u001b[39m\n\u001b[0;32m---> 19\u001b[0m dd \u001b[39m=\u001b[39m data_test\u001b[39m.\u001b[39;49mfilter(\u001b[39mlambda\u001b[39;49;00m example: example[\u001b[39m'\u001b[39;49m\u001b[39midx\u001b[39;49m\u001b[39m'\u001b[39;49m][\u001b[39m'\u001b[39;49m\u001b[39mquestion\u001b[39;49m\u001b[39m'\u001b[39;49m]\u001b[39m==\u001b[39;49mind)\n\u001b[1;32m     21\u001b[0m init_prompt \u001b[39m+\u001b[39m\u001b[39m=\u001b[39m \u001b[39m\"\u001b[39m\u001b[39mParagraph: \u001b[39m\u001b[39m\"\u001b[39m \u001b[39m+\u001b[39m dd[\u001b[39m0\u001b[39m][\u001b[39m'\u001b[39m\u001b[39mparagraph\u001b[39m\u001b[39m'\u001b[39m] \u001b[39m+\u001b[39m \u001b[39m'\u001b[39m\u001b[39m\\n\u001b[39;00m\u001b[39m'\u001b[39m\n\u001b[1;32m     22\u001b[0m \u001b[39mfor\u001b[39;00m idx_q \u001b[39min\u001b[39;00m \u001b[39mrange\u001b[39m(dd\u001b[39m.\u001b[39mnum_rows):\n",
      "File \u001b[0;32m~/.pyenv/versions/3.10.12/envs/pytorch/lib/python3.10/site-packages/datasets/arrow_dataset.py:556\u001b[0m, in \u001b[0;36mtransmit_format.<locals>.wrapper\u001b[0;34m(*args, **kwargs)\u001b[0m\n\u001b[1;32m    549\u001b[0m self_format \u001b[39m=\u001b[39m {\n\u001b[1;32m    550\u001b[0m     \u001b[39m\"\u001b[39m\u001b[39mtype\u001b[39m\u001b[39m\"\u001b[39m: \u001b[39mself\u001b[39m\u001b[39m.\u001b[39m_format_type,\n\u001b[1;32m    551\u001b[0m     \u001b[39m\"\u001b[39m\u001b[39mformat_kwargs\u001b[39m\u001b[39m\"\u001b[39m: \u001b[39mself\u001b[39m\u001b[39m.\u001b[39m_format_kwargs,\n\u001b[1;32m    552\u001b[0m     \u001b[39m\"\u001b[39m\u001b[39mcolumns\u001b[39m\u001b[39m\"\u001b[39m: \u001b[39mself\u001b[39m\u001b[39m.\u001b[39m_format_columns,\n\u001b[1;32m    553\u001b[0m     \u001b[39m\"\u001b[39m\u001b[39moutput_all_columns\u001b[39m\u001b[39m\"\u001b[39m: \u001b[39mself\u001b[39m\u001b[39m.\u001b[39m_output_all_columns,\n\u001b[1;32m    554\u001b[0m }\n\u001b[1;32m    555\u001b[0m \u001b[39m# apply actual function\u001b[39;00m\n\u001b[0;32m--> 556\u001b[0m out: Union[\u001b[39m\"\u001b[39m\u001b[39mDataset\u001b[39m\u001b[39m\"\u001b[39m, \u001b[39m\"\u001b[39m\u001b[39mDatasetDict\u001b[39m\u001b[39m\"\u001b[39m] \u001b[39m=\u001b[39m func(\u001b[39mself\u001b[39;49m, \u001b[39m*\u001b[39;49margs, \u001b[39m*\u001b[39;49m\u001b[39m*\u001b[39;49mkwargs)\n\u001b[1;32m    557\u001b[0m datasets: List[\u001b[39m\"\u001b[39m\u001b[39mDataset\u001b[39m\u001b[39m\"\u001b[39m] \u001b[39m=\u001b[39m \u001b[39mlist\u001b[39m(out\u001b[39m.\u001b[39mvalues()) \u001b[39mif\u001b[39;00m \u001b[39misinstance\u001b[39m(out, \u001b[39mdict\u001b[39m) \u001b[39melse\u001b[39;00m [out]\n\u001b[1;32m    558\u001b[0m \u001b[39m# re-apply format to the output\u001b[39;00m\n",
      "File \u001b[0;32m~/.pyenv/versions/3.10.12/envs/pytorch/lib/python3.10/site-packages/datasets/fingerprint.py:511\u001b[0m, in \u001b[0;36mfingerprint_transform.<locals>._fingerprint.<locals>.wrapper\u001b[0;34m(*args, **kwargs)\u001b[0m\n\u001b[1;32m    507\u001b[0m             validate_fingerprint(kwargs[fingerprint_name])\n\u001b[1;32m    509\u001b[0m \u001b[39m# Call actual function\u001b[39;00m\n\u001b[0;32m--> 511\u001b[0m out \u001b[39m=\u001b[39m func(dataset, \u001b[39m*\u001b[39;49margs, \u001b[39m*\u001b[39;49m\u001b[39m*\u001b[39;49mkwargs)\n\u001b[1;32m    513\u001b[0m \u001b[39m# Update fingerprint of in-place transforms + update in-place history of transforms\u001b[39;00m\n\u001b[1;32m    515\u001b[0m \u001b[39mif\u001b[39;00m inplace:  \u001b[39m# update after calling func so that the fingerprint doesn't change if the function fails\u001b[39;00m\n",
      "File \u001b[0;32m~/.pyenv/versions/3.10.12/envs/pytorch/lib/python3.10/site-packages/datasets/arrow_dataset.py:3619\u001b[0m, in \u001b[0;36mDataset.filter\u001b[0;34m(self, function, with_indices, input_columns, batched, batch_size, keep_in_memory, load_from_cache_file, cache_file_name, writer_batch_size, fn_kwargs, num_proc, suffix_template, new_fingerprint, desc)\u001b[0m\n\u001b[1;32m   3616\u001b[0m \u001b[39mif\u001b[39;00m \u001b[39mlen\u001b[39m(\u001b[39mself\u001b[39m) \u001b[39m==\u001b[39m \u001b[39m0\u001b[39m:\n\u001b[1;32m   3617\u001b[0m     \u001b[39mreturn\u001b[39;00m \u001b[39mself\u001b[39m\n\u001b[0;32m-> 3619\u001b[0m indices \u001b[39m=\u001b[39m \u001b[39mself\u001b[39;49m\u001b[39m.\u001b[39;49mmap(\n\u001b[1;32m   3620\u001b[0m     function\u001b[39m=\u001b[39;49mpartial(\n\u001b[1;32m   3621\u001b[0m         get_indices_from_mask_function, function, batched, with_indices, input_columns, \u001b[39mself\u001b[39;49m\u001b[39m.\u001b[39;49m_indices\n\u001b[1;32m   3622\u001b[0m     ),\n\u001b[1;32m   3623\u001b[0m     with_indices\u001b[39m=\u001b[39;49m\u001b[39mTrue\u001b[39;49;00m,\n\u001b[1;32m   3624\u001b[0m     features\u001b[39m=\u001b[39;49mFeatures({\u001b[39m\"\u001b[39;49m\u001b[39mindices\u001b[39;49m\u001b[39m\"\u001b[39;49m: Value(\u001b[39m\"\u001b[39;49m\u001b[39muint64\u001b[39;49m\u001b[39m\"\u001b[39;49m)}),\n\u001b[1;32m   3625\u001b[0m     batched\u001b[39m=\u001b[39;49m\u001b[39mTrue\u001b[39;49;00m,\n\u001b[1;32m   3626\u001b[0m     batch_size\u001b[39m=\u001b[39;49mbatch_size,\n\u001b[1;32m   3627\u001b[0m     remove_columns\u001b[39m=\u001b[39;49m\u001b[39mself\u001b[39;49m\u001b[39m.\u001b[39;49mcolumn_names,\n\u001b[1;32m   3628\u001b[0m     keep_in_memory\u001b[39m=\u001b[39;49mkeep_in_memory,\n\u001b[1;32m   3629\u001b[0m     load_from_cache_file\u001b[39m=\u001b[39;49mload_from_cache_file,\n\u001b[1;32m   3630\u001b[0m     cache_file_name\u001b[39m=\u001b[39;49mcache_file_name,\n\u001b[1;32m   3631\u001b[0m     writer_batch_size\u001b[39m=\u001b[39;49mwriter_batch_size,\n\u001b[1;32m   3632\u001b[0m     fn_kwargs\u001b[39m=\u001b[39;49mfn_kwargs,\n\u001b[1;32m   3633\u001b[0m     num_proc\u001b[39m=\u001b[39;49mnum_proc,\n\u001b[1;32m   3634\u001b[0m     suffix_template\u001b[39m=\u001b[39;49msuffix_template,\n\u001b[1;32m   3635\u001b[0m     new_fingerprint\u001b[39m=\u001b[39;49mnew_fingerprint,\n\u001b[1;32m   3636\u001b[0m     input_columns\u001b[39m=\u001b[39;49minput_columns,\n\u001b[1;32m   3637\u001b[0m     desc\u001b[39m=\u001b[39;49mdesc \u001b[39mor\u001b[39;49;00m \u001b[39m\"\u001b[39;49m\u001b[39mFilter\u001b[39;49m\u001b[39m\"\u001b[39;49m,\n\u001b[1;32m   3638\u001b[0m )\n\u001b[1;32m   3639\u001b[0m new_dataset \u001b[39m=\u001b[39m copy\u001b[39m.\u001b[39mdeepcopy(\u001b[39mself\u001b[39m)\n\u001b[1;32m   3640\u001b[0m new_dataset\u001b[39m.\u001b[39m_indices \u001b[39m=\u001b[39m indices\u001b[39m.\u001b[39mdata\n",
      "File \u001b[0;32m~/.pyenv/versions/3.10.12/envs/pytorch/lib/python3.10/site-packages/datasets/arrow_dataset.py:591\u001b[0m, in \u001b[0;36mtransmit_tasks.<locals>.wrapper\u001b[0;34m(*args, **kwargs)\u001b[0m\n\u001b[1;32m    589\u001b[0m     \u001b[39mself\u001b[39m: \u001b[39m\"\u001b[39m\u001b[39mDataset\u001b[39m\u001b[39m\"\u001b[39m \u001b[39m=\u001b[39m kwargs\u001b[39m.\u001b[39mpop(\u001b[39m\"\u001b[39m\u001b[39mself\u001b[39m\u001b[39m\"\u001b[39m)\n\u001b[1;32m    590\u001b[0m \u001b[39m# apply actual function\u001b[39;00m\n\u001b[0;32m--> 591\u001b[0m out: Union[\u001b[39m\"\u001b[39m\u001b[39mDataset\u001b[39m\u001b[39m\"\u001b[39m, \u001b[39m\"\u001b[39m\u001b[39mDatasetDict\u001b[39m\u001b[39m\"\u001b[39m] \u001b[39m=\u001b[39m func(\u001b[39mself\u001b[39;49m, \u001b[39m*\u001b[39;49margs, \u001b[39m*\u001b[39;49m\u001b[39m*\u001b[39;49mkwargs)\n\u001b[1;32m    592\u001b[0m datasets: List[\u001b[39m\"\u001b[39m\u001b[39mDataset\u001b[39m\u001b[39m\"\u001b[39m] \u001b[39m=\u001b[39m \u001b[39mlist\u001b[39m(out\u001b[39m.\u001b[39mvalues()) \u001b[39mif\u001b[39;00m \u001b[39misinstance\u001b[39m(out, \u001b[39mdict\u001b[39m) \u001b[39melse\u001b[39;00m [out]\n\u001b[1;32m    593\u001b[0m \u001b[39mfor\u001b[39;00m dataset \u001b[39min\u001b[39;00m datasets:\n\u001b[1;32m    594\u001b[0m     \u001b[39m# Remove task templates if a column mapping of the template is no longer valid\u001b[39;00m\n",
      "File \u001b[0;32m~/.pyenv/versions/3.10.12/envs/pytorch/lib/python3.10/site-packages/datasets/arrow_dataset.py:556\u001b[0m, in \u001b[0;36mtransmit_format.<locals>.wrapper\u001b[0;34m(*args, **kwargs)\u001b[0m\n\u001b[1;32m    549\u001b[0m self_format \u001b[39m=\u001b[39m {\n\u001b[1;32m    550\u001b[0m     \u001b[39m\"\u001b[39m\u001b[39mtype\u001b[39m\u001b[39m\"\u001b[39m: \u001b[39mself\u001b[39m\u001b[39m.\u001b[39m_format_type,\n\u001b[1;32m    551\u001b[0m     \u001b[39m\"\u001b[39m\u001b[39mformat_kwargs\u001b[39m\u001b[39m\"\u001b[39m: \u001b[39mself\u001b[39m\u001b[39m.\u001b[39m_format_kwargs,\n\u001b[1;32m    552\u001b[0m     \u001b[39m\"\u001b[39m\u001b[39mcolumns\u001b[39m\u001b[39m\"\u001b[39m: \u001b[39mself\u001b[39m\u001b[39m.\u001b[39m_format_columns,\n\u001b[1;32m    553\u001b[0m     \u001b[39m\"\u001b[39m\u001b[39moutput_all_columns\u001b[39m\u001b[39m\"\u001b[39m: \u001b[39mself\u001b[39m\u001b[39m.\u001b[39m_output_all_columns,\n\u001b[1;32m    554\u001b[0m }\n\u001b[1;32m    555\u001b[0m \u001b[39m# apply actual function\u001b[39;00m\n\u001b[0;32m--> 556\u001b[0m out: Union[\u001b[39m\"\u001b[39m\u001b[39mDataset\u001b[39m\u001b[39m\"\u001b[39m, \u001b[39m\"\u001b[39m\u001b[39mDatasetDict\u001b[39m\u001b[39m\"\u001b[39m] \u001b[39m=\u001b[39m func(\u001b[39mself\u001b[39;49m, \u001b[39m*\u001b[39;49margs, \u001b[39m*\u001b[39;49m\u001b[39m*\u001b[39;49mkwargs)\n\u001b[1;32m    557\u001b[0m datasets: List[\u001b[39m\"\u001b[39m\u001b[39mDataset\u001b[39m\u001b[39m\"\u001b[39m] \u001b[39m=\u001b[39m \u001b[39mlist\u001b[39m(out\u001b[39m.\u001b[39mvalues()) \u001b[39mif\u001b[39;00m \u001b[39misinstance\u001b[39m(out, \u001b[39mdict\u001b[39m) \u001b[39melse\u001b[39;00m [out]\n\u001b[1;32m    558\u001b[0m \u001b[39m# re-apply format to the output\u001b[39;00m\n",
      "File \u001b[0;32m~/.pyenv/versions/3.10.12/envs/pytorch/lib/python3.10/site-packages/datasets/arrow_dataset.py:3089\u001b[0m, in \u001b[0;36mDataset.map\u001b[0;34m(self, function, with_indices, with_rank, input_columns, batched, batch_size, drop_last_batch, remove_columns, keep_in_memory, load_from_cache_file, cache_file_name, writer_batch_size, features, disable_nullable, fn_kwargs, num_proc, suffix_template, new_fingerprint, desc)\u001b[0m\n\u001b[1;32m   3082\u001b[0m \u001b[39mif\u001b[39;00m transformed_dataset \u001b[39mis\u001b[39;00m \u001b[39mNone\u001b[39;00m:\n\u001b[1;32m   3083\u001b[0m     \u001b[39mwith\u001b[39;00m logging\u001b[39m.\u001b[39mtqdm(\n\u001b[1;32m   3084\u001b[0m         disable\u001b[39m=\u001b[39m\u001b[39mnot\u001b[39;00m logging\u001b[39m.\u001b[39mis_progress_bar_enabled(),\n\u001b[1;32m   3085\u001b[0m         unit\u001b[39m=\u001b[39m\u001b[39m\"\u001b[39m\u001b[39m examples\u001b[39m\u001b[39m\"\u001b[39m,\n\u001b[1;32m   3086\u001b[0m         total\u001b[39m=\u001b[39mpbar_total,\n\u001b[1;32m   3087\u001b[0m         desc\u001b[39m=\u001b[39mdesc \u001b[39mor\u001b[39;00m \u001b[39m\"\u001b[39m\u001b[39mMap\u001b[39m\u001b[39m\"\u001b[39m,\n\u001b[1;32m   3088\u001b[0m     ) \u001b[39mas\u001b[39;00m pbar:\n\u001b[0;32m-> 3089\u001b[0m         \u001b[39mfor\u001b[39;00m rank, done, content \u001b[39min\u001b[39;00m Dataset\u001b[39m.\u001b[39m_map_single(\u001b[39m*\u001b[39m\u001b[39m*\u001b[39mdataset_kwargs):\n\u001b[1;32m   3090\u001b[0m             \u001b[39mif\u001b[39;00m done:\n\u001b[1;32m   3091\u001b[0m                 shards_done \u001b[39m+\u001b[39m\u001b[39m=\u001b[39m \u001b[39m1\u001b[39m\n",
      "File \u001b[0;32m~/.pyenv/versions/3.10.12/envs/pytorch/lib/python3.10/site-packages/datasets/arrow_dataset.py:3466\u001b[0m, in \u001b[0;36mDataset._map_single\u001b[0;34m(shard, function, with_indices, with_rank, input_columns, batched, batch_size, drop_last_batch, remove_columns, keep_in_memory, cache_file_name, writer_batch_size, features, disable_nullable, fn_kwargs, new_fingerprint, rank, offset)\u001b[0m\n\u001b[1;32m   3462\u001b[0m indices \u001b[39m=\u001b[39m \u001b[39mlist\u001b[39m(\n\u001b[1;32m   3463\u001b[0m     \u001b[39mrange\u001b[39m(\u001b[39m*\u001b[39m(\u001b[39mslice\u001b[39m(i, i \u001b[39m+\u001b[39m batch_size)\u001b[39m.\u001b[39mindices(shard\u001b[39m.\u001b[39mnum_rows)))\n\u001b[1;32m   3464\u001b[0m )  \u001b[39m# Something simpler?\u001b[39;00m\n\u001b[1;32m   3465\u001b[0m \u001b[39mtry\u001b[39;00m:\n\u001b[0;32m-> 3466\u001b[0m     batch \u001b[39m=\u001b[39m apply_function_on_filtered_inputs(\n\u001b[1;32m   3467\u001b[0m         batch,\n\u001b[1;32m   3468\u001b[0m         indices,\n\u001b[1;32m   3469\u001b[0m         check_same_num_examples\u001b[39m=\u001b[39;49m\u001b[39mlen\u001b[39;49m(shard\u001b[39m.\u001b[39;49mlist_indexes()) \u001b[39m>\u001b[39;49m \u001b[39m0\u001b[39;49m,\n\u001b[1;32m   3470\u001b[0m         offset\u001b[39m=\u001b[39;49moffset,\n\u001b[1;32m   3471\u001b[0m     )\n\u001b[1;32m   3472\u001b[0m \u001b[39mexcept\u001b[39;00m NumExamplesMismatchError:\n\u001b[1;32m   3473\u001b[0m     \u001b[39mraise\u001b[39;00m DatasetTransformationNotAllowedError(\n\u001b[1;32m   3474\u001b[0m         \u001b[39m\"\u001b[39m\u001b[39mUsing `.map` in batched mode on a dataset with attached indexes is allowed only if it doesn\u001b[39m\u001b[39m'\u001b[39m\u001b[39mt create or remove existing examples. You can first run `.drop_index() to remove your index and then re-add it.\u001b[39m\u001b[39m\"\u001b[39m\n\u001b[1;32m   3475\u001b[0m     ) \u001b[39mfrom\u001b[39;00m \u001b[39mNone\u001b[39;00m\n",
      "File \u001b[0;32m~/.pyenv/versions/3.10.12/envs/pytorch/lib/python3.10/site-packages/datasets/arrow_dataset.py:3345\u001b[0m, in \u001b[0;36mDataset._map_single.<locals>.apply_function_on_filtered_inputs\u001b[0;34m(pa_inputs, indices, check_same_num_examples, offset)\u001b[0m\n\u001b[1;32m   3343\u001b[0m \u001b[39mif\u001b[39;00m with_rank:\n\u001b[1;32m   3344\u001b[0m     additional_args \u001b[39m+\u001b[39m\u001b[39m=\u001b[39m (rank,)\n\u001b[0;32m-> 3345\u001b[0m processed_inputs \u001b[39m=\u001b[39m function(\u001b[39m*\u001b[39;49mfn_args, \u001b[39m*\u001b[39;49madditional_args, \u001b[39m*\u001b[39;49m\u001b[39m*\u001b[39;49mfn_kwargs)\n\u001b[1;32m   3346\u001b[0m \u001b[39mif\u001b[39;00m \u001b[39misinstance\u001b[39m(processed_inputs, LazyDict):\n\u001b[1;32m   3347\u001b[0m     processed_inputs \u001b[39m=\u001b[39m {\n\u001b[1;32m   3348\u001b[0m         k: v \u001b[39mfor\u001b[39;00m k, v \u001b[39min\u001b[39;00m processed_inputs\u001b[39m.\u001b[39mdata\u001b[39m.\u001b[39mitems() \u001b[39mif\u001b[39;00m k \u001b[39mnot\u001b[39;00m \u001b[39min\u001b[39;00m processed_inputs\u001b[39m.\u001b[39mkeys_to_format\n\u001b[1;32m   3349\u001b[0m     }\n",
      "File \u001b[0;32m~/.pyenv/versions/3.10.12/envs/pytorch/lib/python3.10/site-packages/datasets/arrow_dataset.py:6191\u001b[0m, in \u001b[0;36mget_indices_from_mask_function\u001b[0;34m(function, batched, with_indices, input_columns, indices_mapping, *args, **fn_kwargs)\u001b[0m\n\u001b[1;32m   6189\u001b[0m     num_examples \u001b[39m=\u001b[39m \u001b[39mlen\u001b[39m(batch[\u001b[39mnext\u001b[39m(\u001b[39miter\u001b[39m(batch\u001b[39m.\u001b[39mkeys()))])\n\u001b[1;32m   6190\u001b[0m     \u001b[39mfor\u001b[39;00m i \u001b[39min\u001b[39;00m \u001b[39mrange\u001b[39m(num_examples):\n\u001b[0;32m-> 6191\u001b[0m         example \u001b[39m=\u001b[39m {key: batch[key][i] \u001b[39mfor\u001b[39;00m key \u001b[39min\u001b[39;00m batch}\n\u001b[1;32m   6192\u001b[0m         mask\u001b[39m.\u001b[39mappend(\n\u001b[1;32m   6193\u001b[0m             function(example, indices[i], \u001b[39m*\u001b[39m\u001b[39m*\u001b[39mfn_kwargs) \u001b[39mif\u001b[39;00m with_indices \u001b[39melse\u001b[39;00m function(example, \u001b[39m*\u001b[39m\u001b[39m*\u001b[39mfn_kwargs)\n\u001b[1;32m   6194\u001b[0m         )\n\u001b[1;32m   6195\u001b[0m \u001b[39melse\u001b[39;00m:\n\u001b[1;32m   6196\u001b[0m     \u001b[39m# inputs is a list of columns\u001b[39;00m\n",
      "File \u001b[0;32m~/.pyenv/versions/3.10.12/envs/pytorch/lib/python3.10/site-packages/datasets/arrow_dataset.py:6191\u001b[0m, in \u001b[0;36m<dictcomp>\u001b[0;34m(.0)\u001b[0m\n\u001b[1;32m   6189\u001b[0m     num_examples \u001b[39m=\u001b[39m \u001b[39mlen\u001b[39m(batch[\u001b[39mnext\u001b[39m(\u001b[39miter\u001b[39m(batch\u001b[39m.\u001b[39mkeys()))])\n\u001b[1;32m   6190\u001b[0m     \u001b[39mfor\u001b[39;00m i \u001b[39min\u001b[39;00m \u001b[39mrange\u001b[39m(num_examples):\n\u001b[0;32m-> 6191\u001b[0m         example \u001b[39m=\u001b[39m {key: batch[key][i] \u001b[39mfor\u001b[39;00m key \u001b[39min\u001b[39;00m batch}\n\u001b[1;32m   6192\u001b[0m         mask\u001b[39m.\u001b[39mappend(\n\u001b[1;32m   6193\u001b[0m             function(example, indices[i], \u001b[39m*\u001b[39m\u001b[39m*\u001b[39mfn_kwargs) \u001b[39mif\u001b[39;00m with_indices \u001b[39melse\u001b[39;00m function(example, \u001b[39m*\u001b[39m\u001b[39m*\u001b[39mfn_kwargs)\n\u001b[1;32m   6194\u001b[0m         )\n\u001b[1;32m   6195\u001b[0m \u001b[39melse\u001b[39;00m:\n\u001b[1;32m   6196\u001b[0m     \u001b[39m# inputs is a list of columns\u001b[39;00m\n",
      "File \u001b[0;32m~/.pyenv/versions/3.10.12/envs/pytorch/lib/python3.10/site-packages/datasets/formatting/formatting.py:272\u001b[0m, in \u001b[0;36mLazyDict.__getitem__\u001b[0;34m(self, key)\u001b[0m\n\u001b[1;32m    270\u001b[0m value \u001b[39m=\u001b[39m \u001b[39mself\u001b[39m\u001b[39m.\u001b[39mdata[key]\n\u001b[1;32m    271\u001b[0m \u001b[39mif\u001b[39;00m key \u001b[39min\u001b[39;00m \u001b[39mself\u001b[39m\u001b[39m.\u001b[39mkeys_to_format:\n\u001b[0;32m--> 272\u001b[0m     value \u001b[39m=\u001b[39m \u001b[39mself\u001b[39;49m\u001b[39m.\u001b[39;49mformat(key)\n\u001b[1;32m    273\u001b[0m     \u001b[39mself\u001b[39m\u001b[39m.\u001b[39mdata[key] \u001b[39m=\u001b[39m value\n\u001b[1;32m    274\u001b[0m     \u001b[39mself\u001b[39m\u001b[39m.\u001b[39mkeys_to_format\u001b[39m.\u001b[39mremove(key)\n",
      "File \u001b[0;32m~/.pyenv/versions/3.10.12/envs/pytorch/lib/python3.10/site-packages/datasets/formatting/formatting.py:375\u001b[0m, in \u001b[0;36mLazyBatch.format\u001b[0;34m(self, key)\u001b[0m\n\u001b[1;32m    374\u001b[0m \u001b[39mdef\u001b[39;00m \u001b[39mformat\u001b[39m(\u001b[39mself\u001b[39m, key):\n\u001b[0;32m--> 375\u001b[0m     \u001b[39mreturn\u001b[39;00m \u001b[39mself\u001b[39;49m\u001b[39m.\u001b[39;49mformatter\u001b[39m.\u001b[39;49mformat_column(\u001b[39mself\u001b[39;49m\u001b[39m.\u001b[39;49mpa_table\u001b[39m.\u001b[39;49mselect([key]))\n",
      "File \u001b[0;32m~/.pyenv/versions/3.10.12/envs/pytorch/lib/python3.10/site-packages/datasets/formatting/formatting.py:441\u001b[0m, in \u001b[0;36mPythonFormatter.format_column\u001b[0;34m(self, pa_table)\u001b[0m\n\u001b[1;32m    440\u001b[0m \u001b[39mdef\u001b[39;00m \u001b[39mformat_column\u001b[39m(\u001b[39mself\u001b[39m, pa_table: pa\u001b[39m.\u001b[39mTable) \u001b[39m-\u001b[39m\u001b[39m>\u001b[39m \u001b[39mlist\u001b[39m:\n\u001b[0;32m--> 441\u001b[0m     column \u001b[39m=\u001b[39m \u001b[39mself\u001b[39;49m\u001b[39m.\u001b[39;49mpython_arrow_extractor()\u001b[39m.\u001b[39;49mextract_column(pa_table)\n\u001b[1;32m    442\u001b[0m     column \u001b[39m=\u001b[39m \u001b[39mself\u001b[39m\u001b[39m.\u001b[39mpython_features_decoder\u001b[39m.\u001b[39mdecode_column(column, pa_table\u001b[39m.\u001b[39mcolumn_names[\u001b[39m0\u001b[39m])\n\u001b[1;32m    443\u001b[0m     \u001b[39mreturn\u001b[39;00m column\n",
      "File \u001b[0;32m~/.pyenv/versions/3.10.12/envs/pytorch/lib/python3.10/site-packages/datasets/formatting/formatting.py:147\u001b[0m, in \u001b[0;36mPythonArrowExtractor.extract_column\u001b[0;34m(self, pa_table)\u001b[0m\n\u001b[1;32m    146\u001b[0m \u001b[39mdef\u001b[39;00m \u001b[39mextract_column\u001b[39m(\u001b[39mself\u001b[39m, pa_table: pa\u001b[39m.\u001b[39mTable) \u001b[39m-\u001b[39m\u001b[39m>\u001b[39m \u001b[39mlist\u001b[39m:\n\u001b[0;32m--> 147\u001b[0m     \u001b[39mreturn\u001b[39;00m pa_table\u001b[39m.\u001b[39;49mcolumn(\u001b[39m0\u001b[39;49m)\u001b[39m.\u001b[39;49mto_pylist()\n",
      "File \u001b[0;32m~/.pyenv/versions/3.10.12/envs/pytorch/lib/python3.10/site-packages/pyarrow/table.pxi:1326\u001b[0m, in \u001b[0;36mpyarrow.lib.ChunkedArray.to_pylist\u001b[0;34m()\u001b[0m\n",
      "File \u001b[0;32m~/.pyenv/versions/3.10.12/envs/pytorch/lib/python3.10/site-packages/pyarrow/array.pxi:1604\u001b[0m, in \u001b[0;36mpyarrow.lib.Array.to_pylist\u001b[0;34m()\u001b[0m\n",
      "File \u001b[0;32m~/.pyenv/versions/3.10.12/envs/pytorch/lib/python3.10/site-packages/pyarrow/scalar.pxi:777\u001b[0m, in \u001b[0;36mpyarrow.lib.StructScalar.as_py\u001b[0;34m()\u001b[0m\n",
      "File \u001b[0;32m~/.pyenv/versions/3.10.12/lib/python3.10/_collections_abc.py:836\u001b[0m, in \u001b[0;36mMapping.keys\u001b[0;34m(self)\u001b[0m\n\u001b[1;32m    833\u001b[0m     \u001b[39melse\u001b[39;00m:\n\u001b[1;32m    834\u001b[0m         \u001b[39mreturn\u001b[39;00m \u001b[39mTrue\u001b[39;00m\n\u001b[0;32m--> 836\u001b[0m \u001b[39mdef\u001b[39;00m \u001b[39mkeys\u001b[39m(\u001b[39mself\u001b[39m):\n\u001b[1;32m    837\u001b[0m     \u001b[39m\"\u001b[39m\u001b[39mD.keys() -> a set-like object providing a view on D\u001b[39m\u001b[39m'\u001b[39m\u001b[39ms keys\u001b[39m\u001b[39m\"\u001b[39m\n\u001b[1;32m    838\u001b[0m     \u001b[39mreturn\u001b[39;00m KeysView(\u001b[39mself\u001b[39m)\n",
      "\u001b[0;31mKeyboardInterrupt\u001b[0m: "
     ]
    }
   ],
   "source": [
    "disable_progress_bar()\n",
    "\n",
    "# print(example_idx)\n",
    "n_example = 1000#data_test.num_rows\n",
    "n_shot_vals = [2]\n",
    "seed = 123\n",
    "for n_shot in range(6):\n",
    "# for n_shot in n_shot_vals:\n",
    "    print(f\"{n_shot}-shot example is being generated...\")\n",
    "    fname_json = f\"multirc-data/{n_shot}_shot_examples.json\"\n",
    "    # fname_json = f\"boolq-data/{n_shot}_shot_examples_small.json\"\n",
    "    # JSON_eval = 'sample_eval.json'\n",
    "    json_writer(fname_json, n_example, n_shot, seed=seed, space= False)\n",
    "    # json_writer(JSON_eval,example_idx[(n_shot_example+1)*n_test_ex:])\n",
    "\n",
    "enable_progress_bar()\n"
   ]
  },
  {
   "cell_type": "code",
   "execution_count": null,
   "metadata": {},
   "outputs": [],
   "source": [
    "# fname_json = f\"mmlu-data/ex_no_space.json\"\n",
    "n_shot = 2\n",
    "d1 = load_dataset(\"json\", data_files={\n",
    "        'dev' : f\"multirc-data/{n_shot}_shot_examples.json\"\n",
    "    })\n",
    "# print(d1['dev'])\n",
    "# print(d1['dev'].filter(lambda example: example[\"subject\"] == subject))\n",
    "# d2 = d1['dev'].filter(lambda example: example[\"subject\"] == subject)\n",
    "# # print(d2['input'][0][-1])\n",
    "# # print(\"---------\")\n",
    "# print(d1['dev'][2]['input'])"
   ]
  },
  {
   "cell_type": "code",
   "execution_count": null,
   "metadata": {},
   "outputs": [
    {
     "name": "stdout",
     "output_type": "stream",
     "text": [
      "Dataset({\n",
      "    features: ['question', 'input', 'target_str', 'target'],\n",
      "    num_rows: 7\n",
      "})\n",
      "Paragraph: Alexander II's death caused a great setback for the reform movement. One of his last ideas was to draft plans for an elected parliament, or Duma, which were completed the day before he died but not yet released to the Russian people. In a matter of 48 hours, Alexander II planned to release his plan for the duma to the Russian people. Had he lived, Russia might have followed a path to constitutional monarchy instead of the long road of oppression that defined his successor's reign. The first action Alexander III took after his father's death was to tear up those plans. A Duma would not come into fruition until 1905, when Alexander II's grandson, Nicholas II, commissioned the Duma following extreme pressure on the monarchy as a result of the Russian Revolution of 1905. The assassination triggered major suppression of civil liberties in Russia, and police brutality burst back in full force after experiencing some restraint under the reign of Alexander II, whose death was witnessed first-hand by his son, Alexander III, and his grandson, Nicholas II, both future emperors who vowed not to have the same fate befall them. Both of them used the Okhrana to arrest protestors and uproot suspected rebel groups, creating further suppression of personal freedom for the Russian people. A series of anti-Jewish pogroms and antisemitic legislation, the May Laws, were yet another result. Finally, the tsar's assassination also inspired anarchists to advocate \"'propaganda by deed'--the use of a spectacular act of violence to incite revolution.\" With construction starting in 1883, the Church of the Savior on Blood was built on the site of Alexander's assassination and dedicated in his memory. \n",
      "Question: How many years passed between the fruition of the Duma and the beginning of the construction of the Church of the Savior on Blood?\n",
      "Response: 5 years\n",
      "Answer:False\n",
      "\n",
      "Paragraph: While this process moved along, diplomacy continued its rounds. Direct pressure on the Taliban had proved unsuccessful. As one NSC staff note put it, \"Under the Taliban, Afghanistan is not so much a state sponsor of terrorism as it is a state sponsored by terrorists.\" In early 2000, the United States began a high-level effort to persuade Pakistan to use its influence over the Taliban. In January 2000, Assistant Secretary of State Karl Inderfurth and the State Department's counterterrorism coordinator, Michael Sheehan, met with General Musharraf in Islamabad, dangling before him the possibility of a presidential visit in March as a reward for Pakistani cooperation. Such a visit was coveted by Musharraf, partly as a sign of his government's legitimacy. He told the two envoys that he would meet with Mullah Omar and press him on  Bin Laden. They left, however, reporting to Washington that Pakistan was unlikely in fact to do anything,\" given what it sees as the benefits of Taliban control of Afghanistan.\" President Clinton was scheduled to travel to India. The State Department felt that he should not visit India without also visiting Pakistan. The Secret Service and the CIA, however, warned in the strongest terms that visiting Pakistan would risk the President's life. Counterterrorism officials also argued that Pakistan had not done enough to merit a presidential visit. But President Clinton insisted on including Pakistan in the itinerary for his trip to South Asia. His one-day stopover on March 25, 2000, was the first time a U.S. president had been there since 1969. At his meeting with Musharraf and others, President Clinton concentrated on tensions between Pakistan and India and the dangers of nuclear proliferation, but also discussed  Bin Laden. President Clinton told us that when he pulled Musharraf aside for a brief, one-on-one meeting, he pleaded with the general for help regarding  Bin Laden.\" I offered him the moon when I went to see him, in terms of better relations with the United States, if he'd help us get  Bin Laden and deal with another issue or two.\" The U.S. effort continued. \n",
      "Question: Who met with Musharraf to discuss the issues of Pakistan cooperation with the U.S.?\n",
      "Response: CIA\n",
      "Answer:False\n",
      "\n",
      "Paragraph: The film opens with Sunita , a medical student , and her friends working on a project about the human brain .  She wants to investigate the curious case of Sanjay Singhania , a notable city businessman , who is reported to have anterograde amnesia .  Her professor denies access to Sanjay's records as it is currently under criminal investigation .  Sunita , nonetheless , decides to investigate the matter herself .  Sanjay is introduced as he brutally murders a man .  He takes a Polaroid picture of the man , and writes on it `` done '' .  It is revealed that Sanjay has anterograde amnesia where he loses his memory every 15 minutes .  Sanjay uses a system of photographs , notes , and tattoos on his body to recover his memory after each cycle .  It is revealed that Sanjay is ultimately out to avenge the death of his sweetheart Kalpana , and that he is systematically killing the people who were responsible for it .  His main target is `` Ghajini '' , a notable social personality in the city .  Police Inspector Arjun Yadav , on the case of the serial murders , tracks Sanjay down to his flat and attacks and disables him .  Yadav finds two diaries where Sanjay has chronicled the events of 2005 and 2006 .  The film flashes back to 2005 as Yadav reads the diary .  Sanjay Singhania is shown as the owner of the Air Voice mobile telephone company .  In the course of his business , Sanjay sends his men to meet Kalpana , a struggling model , about putting up a billboard above her apartment .  The owner of Kalpana's advertising firm misinterprets this as a romantic advance , and in view of a possible lucrative Air Voice ad campaign and other benefits , encourages Kalpana to accept the overture . \n",
      "Question: Why does Sunita's professor deny her access to records on Sanjay Singhania?\n",
      "Response: Notable city businessman\n",
      "Answer:\n",
      "____________________________________________________________________________________________________\n",
      "Paragraph: Alexander II's death caused a great setback for the reform movement. One of his last ideas was to draft plans for an elected parliament, or Duma, which were completed the day before he died but not yet released to the Russian people. In a matter of 48 hours, Alexander II planned to release his plan for the duma to the Russian people. Had he lived, Russia might have followed a path to constitutional monarchy instead of the long road of oppression that defined his successor's reign. The first action Alexander III took after his father's death was to tear up those plans. A Duma would not come into fruition until 1905, when Alexander II's grandson, Nicholas II, commissioned the Duma following extreme pressure on the monarchy as a result of the Russian Revolution of 1905. The assassination triggered major suppression of civil liberties in Russia, and police brutality burst back in full force after experiencing some restraint under the reign of Alexander II, whose death was witnessed first-hand by his son, Alexander III, and his grandson, Nicholas II, both future emperors who vowed not to have the same fate befall them. Both of them used the Okhrana to arrest protestors and uproot suspected rebel groups, creating further suppression of personal freedom for the Russian people. A series of anti-Jewish pogroms and antisemitic legislation, the May Laws, were yet another result. Finally, the tsar's assassination also inspired anarchists to advocate \"'propaganda by deed'--the use of a spectacular act of violence to incite revolution.\" With construction starting in 1883, the Church of the Savior on Blood was built on the site of Alexander's assassination and dedicated in his memory. \n",
      "Question: How many years passed between the fruition of the Duma and the beginning of the construction of the Church of the Savior on Blood?\n",
      "Response: 5 years\n",
      "Answer:False\n",
      "\n",
      "Paragraph: While this process moved along, diplomacy continued its rounds. Direct pressure on the Taliban had proved unsuccessful. As one NSC staff note put it, \"Under the Taliban, Afghanistan is not so much a state sponsor of terrorism as it is a state sponsored by terrorists.\" In early 2000, the United States began a high-level effort to persuade Pakistan to use its influence over the Taliban. In January 2000, Assistant Secretary of State Karl Inderfurth and the State Department's counterterrorism coordinator, Michael Sheehan, met with General Musharraf in Islamabad, dangling before him the possibility of a presidential visit in March as a reward for Pakistani cooperation. Such a visit was coveted by Musharraf, partly as a sign of his government's legitimacy. He told the two envoys that he would meet with Mullah Omar and press him on  Bin Laden. They left, however, reporting to Washington that Pakistan was unlikely in fact to do anything,\" given what it sees as the benefits of Taliban control of Afghanistan.\" President Clinton was scheduled to travel to India. The State Department felt that he should not visit India without also visiting Pakistan. The Secret Service and the CIA, however, warned in the strongest terms that visiting Pakistan would risk the President's life. Counterterrorism officials also argued that Pakistan had not done enough to merit a presidential visit. But President Clinton insisted on including Pakistan in the itinerary for his trip to South Asia. His one-day stopover on March 25, 2000, was the first time a U.S. president had been there since 1969. At his meeting with Musharraf and others, President Clinton concentrated on tensions between Pakistan and India and the dangers of nuclear proliferation, but also discussed  Bin Laden. President Clinton told us that when he pulled Musharraf aside for a brief, one-on-one meeting, he pleaded with the general for help regarding  Bin Laden.\" I offered him the moon when I went to see him, in terms of better relations with the United States, if he'd help us get  Bin Laden and deal with another issue or two.\" The U.S. effort continued. \n",
      "Question: Who met with Musharraf to discuss the issues of Pakistan cooperation with the U.S.?\n",
      "Response: CIA\n",
      "Answer:False\n",
      "\n",
      "Paragraph: The film opens with Sunita , a medical student , and her friends working on a project about the human brain .  She wants to investigate the curious case of Sanjay Singhania , a notable city businessman , who is reported to have anterograde amnesia .  Her professor denies access to Sanjay's records as it is currently under criminal investigation .  Sunita , nonetheless , decides to investigate the matter herself .  Sanjay is introduced as he brutally murders a man .  He takes a Polaroid picture of the man , and writes on it `` done '' .  It is revealed that Sanjay has anterograde amnesia where he loses his memory every 15 minutes .  Sanjay uses a system of photographs , notes , and tattoos on his body to recover his memory after each cycle .  It is revealed that Sanjay is ultimately out to avenge the death of his sweetheart Kalpana , and that he is systematically killing the people who were responsible for it .  His main target is `` Ghajini '' , a notable social personality in the city .  Police Inspector Arjun Yadav , on the case of the serial murders , tracks Sanjay down to his flat and attacks and disables him .  Yadav finds two diaries where Sanjay has chronicled the events of 2005 and 2006 .  The film flashes back to 2005 as Yadav reads the diary .  Sanjay Singhania is shown as the owner of the Air Voice mobile telephone company .  In the course of his business , Sanjay sends his men to meet Kalpana , a struggling model , about putting up a billboard above her apartment .  The owner of Kalpana's advertising firm misinterprets this as a romantic advance , and in view of a possible lucrative Air Voice ad campaign and other benefits , encourages Kalpana to accept the overture . \n",
      "Question: Why does Sunita's professor deny her access to records on Sanjay Singhania?\n",
      "Response: They are confidential\n",
      "Answer:\n",
      "____________________________________________________________________________________________________\n",
      "Paragraph: Alexander II's death caused a great setback for the reform movement. One of his last ideas was to draft plans for an elected parliament, or Duma, which were completed the day before he died but not yet released to the Russian people. In a matter of 48 hours, Alexander II planned to release his plan for the duma to the Russian people. Had he lived, Russia might have followed a path to constitutional monarchy instead of the long road of oppression that defined his successor's reign. The first action Alexander III took after his father's death was to tear up those plans. A Duma would not come into fruition until 1905, when Alexander II's grandson, Nicholas II, commissioned the Duma following extreme pressure on the monarchy as a result of the Russian Revolution of 1905. The assassination triggered major suppression of civil liberties in Russia, and police brutality burst back in full force after experiencing some restraint under the reign of Alexander II, whose death was witnessed first-hand by his son, Alexander III, and his grandson, Nicholas II, both future emperors who vowed not to have the same fate befall them. Both of them used the Okhrana to arrest protestors and uproot suspected rebel groups, creating further suppression of personal freedom for the Russian people. A series of anti-Jewish pogroms and antisemitic legislation, the May Laws, were yet another result. Finally, the tsar's assassination also inspired anarchists to advocate \"'propaganda by deed'--the use of a spectacular act of violence to incite revolution.\" With construction starting in 1883, the Church of the Savior on Blood was built on the site of Alexander's assassination and dedicated in his memory. \n",
      "Question: How many years passed between the fruition of the Duma and the beginning of the construction of the Church of the Savior on Blood?\n",
      "Response: 5 years\n",
      "Answer:False\n",
      "\n",
      "Paragraph: While this process moved along, diplomacy continued its rounds. Direct pressure on the Taliban had proved unsuccessful. As one NSC staff note put it, \"Under the Taliban, Afghanistan is not so much a state sponsor of terrorism as it is a state sponsored by terrorists.\" In early 2000, the United States began a high-level effort to persuade Pakistan to use its influence over the Taliban. In January 2000, Assistant Secretary of State Karl Inderfurth and the State Department's counterterrorism coordinator, Michael Sheehan, met with General Musharraf in Islamabad, dangling before him the possibility of a presidential visit in March as a reward for Pakistani cooperation. Such a visit was coveted by Musharraf, partly as a sign of his government's legitimacy. He told the two envoys that he would meet with Mullah Omar and press him on  Bin Laden. They left, however, reporting to Washington that Pakistan was unlikely in fact to do anything,\" given what it sees as the benefits of Taliban control of Afghanistan.\" President Clinton was scheduled to travel to India. The State Department felt that he should not visit India without also visiting Pakistan. The Secret Service and the CIA, however, warned in the strongest terms that visiting Pakistan would risk the President's life. Counterterrorism officials also argued that Pakistan had not done enough to merit a presidential visit. But President Clinton insisted on including Pakistan in the itinerary for his trip to South Asia. His one-day stopover on March 25, 2000, was the first time a U.S. president had been there since 1969. At his meeting with Musharraf and others, President Clinton concentrated on tensions between Pakistan and India and the dangers of nuclear proliferation, but also discussed  Bin Laden. President Clinton told us that when he pulled Musharraf aside for a brief, one-on-one meeting, he pleaded with the general for help regarding  Bin Laden.\" I offered him the moon when I went to see him, in terms of better relations with the United States, if he'd help us get  Bin Laden and deal with another issue or two.\" The U.S. effort continued. \n",
      "Question: Who met with Musharraf to discuss the issues of Pakistan cooperation with the U.S.?\n",
      "Response: CIA\n",
      "Answer:False\n",
      "\n",
      "Paragraph: The film opens with Sunita , a medical student , and her friends working on a project about the human brain .  She wants to investigate the curious case of Sanjay Singhania , a notable city businessman , who is reported to have anterograde amnesia .  Her professor denies access to Sanjay's records as it is currently under criminal investigation .  Sunita , nonetheless , decides to investigate the matter herself .  Sanjay is introduced as he brutally murders a man .  He takes a Polaroid picture of the man , and writes on it `` done '' .  It is revealed that Sanjay has anterograde amnesia where he loses his memory every 15 minutes .  Sanjay uses a system of photographs , notes , and tattoos on his body to recover his memory after each cycle .  It is revealed that Sanjay is ultimately out to avenge the death of his sweetheart Kalpana , and that he is systematically killing the people who were responsible for it .  His main target is `` Ghajini '' , a notable social personality in the city .  Police Inspector Arjun Yadav , on the case of the serial murders , tracks Sanjay down to his flat and attacks and disables him .  Yadav finds two diaries where Sanjay has chronicled the events of 2005 and 2006 .  The film flashes back to 2005 as Yadav reads the diary .  Sanjay Singhania is shown as the owner of the Air Voice mobile telephone company .  In the course of his business , Sanjay sends his men to meet Kalpana , a struggling model , about putting up a billboard above her apartment .  The owner of Kalpana's advertising firm misinterprets this as a romantic advance , and in view of a possible lucrative Air Voice ad campaign and other benefits , encourages Kalpana to accept the overture . \n",
      "Question: Why does Sunita's professor deny her access to records on Sanjay Singhania?\n",
      "Response: Since the records are missing\n",
      "Answer:\n",
      "____________________________________________________________________________________________________\n",
      "Paragraph: Alexander II's death caused a great setback for the reform movement. One of his last ideas was to draft plans for an elected parliament, or Duma, which were completed the day before he died but not yet released to the Russian people. In a matter of 48 hours, Alexander II planned to release his plan for the duma to the Russian people. Had he lived, Russia might have followed a path to constitutional monarchy instead of the long road of oppression that defined his successor's reign. The first action Alexander III took after his father's death was to tear up those plans. A Duma would not come into fruition until 1905, when Alexander II's grandson, Nicholas II, commissioned the Duma following extreme pressure on the monarchy as a result of the Russian Revolution of 1905. The assassination triggered major suppression of civil liberties in Russia, and police brutality burst back in full force after experiencing some restraint under the reign of Alexander II, whose death was witnessed first-hand by his son, Alexander III, and his grandson, Nicholas II, both future emperors who vowed not to have the same fate befall them. Both of them used the Okhrana to arrest protestors and uproot suspected rebel groups, creating further suppression of personal freedom for the Russian people. A series of anti-Jewish pogroms and antisemitic legislation, the May Laws, were yet another result. Finally, the tsar's assassination also inspired anarchists to advocate \"'propaganda by deed'--the use of a spectacular act of violence to incite revolution.\" With construction starting in 1883, the Church of the Savior on Blood was built on the site of Alexander's assassination and dedicated in his memory. \n",
      "Question: How many years passed between the fruition of the Duma and the beginning of the construction of the Church of the Savior on Blood?\n",
      "Response: 5 years\n",
      "Answer:False\n",
      "\n",
      "Paragraph: While this process moved along, diplomacy continued its rounds. Direct pressure on the Taliban had proved unsuccessful. As one NSC staff note put it, \"Under the Taliban, Afghanistan is not so much a state sponsor of terrorism as it is a state sponsored by terrorists.\" In early 2000, the United States began a high-level effort to persuade Pakistan to use its influence over the Taliban. In January 2000, Assistant Secretary of State Karl Inderfurth and the State Department's counterterrorism coordinator, Michael Sheehan, met with General Musharraf in Islamabad, dangling before him the possibility of a presidential visit in March as a reward for Pakistani cooperation. Such a visit was coveted by Musharraf, partly as a sign of his government's legitimacy. He told the two envoys that he would meet with Mullah Omar and press him on  Bin Laden. They left, however, reporting to Washington that Pakistan was unlikely in fact to do anything,\" given what it sees as the benefits of Taliban control of Afghanistan.\" President Clinton was scheduled to travel to India. The State Department felt that he should not visit India without also visiting Pakistan. The Secret Service and the CIA, however, warned in the strongest terms that visiting Pakistan would risk the President's life. Counterterrorism officials also argued that Pakistan had not done enough to merit a presidential visit. But President Clinton insisted on including Pakistan in the itinerary for his trip to South Asia. His one-day stopover on March 25, 2000, was the first time a U.S. president had been there since 1969. At his meeting with Musharraf and others, President Clinton concentrated on tensions between Pakistan and India and the dangers of nuclear proliferation, but also discussed  Bin Laden. President Clinton told us that when he pulled Musharraf aside for a brief, one-on-one meeting, he pleaded with the general for help regarding  Bin Laden.\" I offered him the moon when I went to see him, in terms of better relations with the United States, if he'd help us get  Bin Laden and deal with another issue or two.\" The U.S. effort continued. \n",
      "Question: Who met with Musharraf to discuss the issues of Pakistan cooperation with the U.S.?\n",
      "Response: CIA\n",
      "Answer:False\n",
      "\n",
      "Paragraph: The film opens with Sunita , a medical student , and her friends working on a project about the human brain .  She wants to investigate the curious case of Sanjay Singhania , a notable city businessman , who is reported to have anterograde amnesia .  Her professor denies access to Sanjay's records as it is currently under criminal investigation .  Sunita , nonetheless , decides to investigate the matter herself .  Sanjay is introduced as he brutally murders a man .  He takes a Polaroid picture of the man , and writes on it `` done '' .  It is revealed that Sanjay has anterograde amnesia where he loses his memory every 15 minutes .  Sanjay uses a system of photographs , notes , and tattoos on his body to recover his memory after each cycle .  It is revealed that Sanjay is ultimately out to avenge the death of his sweetheart Kalpana , and that he is systematically killing the people who were responsible for it .  His main target is `` Ghajini '' , a notable social personality in the city .  Police Inspector Arjun Yadav , on the case of the serial murders , tracks Sanjay down to his flat and attacks and disables him .  Yadav finds two diaries where Sanjay has chronicled the events of 2005 and 2006 .  The film flashes back to 2005 as Yadav reads the diary .  Sanjay Singhania is shown as the owner of the Air Voice mobile telephone company .  In the course of his business , Sanjay sends his men to meet Kalpana , a struggling model , about putting up a billboard above her apartment .  The owner of Kalpana's advertising firm misinterprets this as a romantic advance , and in view of a possible lucrative Air Voice ad campaign and other benefits , encourages Kalpana to accept the overture . \n",
      "Question: Why does Sunita's professor deny her access to records on Sanjay Singhania?\n",
      "Response: They are currently under criminal investigation\n",
      "Answer:\n",
      "____________________________________________________________________________________________________\n",
      "Paragraph: Alexander II's death caused a great setback for the reform movement. One of his last ideas was to draft plans for an elected parliament, or Duma, which were completed the day before he died but not yet released to the Russian people. In a matter of 48 hours, Alexander II planned to release his plan for the duma to the Russian people. Had he lived, Russia might have followed a path to constitutional monarchy instead of the long road of oppression that defined his successor's reign. The first action Alexander III took after his father's death was to tear up those plans. A Duma would not come into fruition until 1905, when Alexander II's grandson, Nicholas II, commissioned the Duma following extreme pressure on the monarchy as a result of the Russian Revolution of 1905. The assassination triggered major suppression of civil liberties in Russia, and police brutality burst back in full force after experiencing some restraint under the reign of Alexander II, whose death was witnessed first-hand by his son, Alexander III, and his grandson, Nicholas II, both future emperors who vowed not to have the same fate befall them. Both of them used the Okhrana to arrest protestors and uproot suspected rebel groups, creating further suppression of personal freedom for the Russian people. A series of anti-Jewish pogroms and antisemitic legislation, the May Laws, were yet another result. Finally, the tsar's assassination also inspired anarchists to advocate \"'propaganda by deed'--the use of a spectacular act of violence to incite revolution.\" With construction starting in 1883, the Church of the Savior on Blood was built on the site of Alexander's assassination and dedicated in his memory. \n",
      "Question: How many years passed between the fruition of the Duma and the beginning of the construction of the Church of the Savior on Blood?\n",
      "Response: 5 years\n",
      "Answer:False\n",
      "\n",
      "Paragraph: While this process moved along, diplomacy continued its rounds. Direct pressure on the Taliban had proved unsuccessful. As one NSC staff note put it, \"Under the Taliban, Afghanistan is not so much a state sponsor of terrorism as it is a state sponsored by terrorists.\" In early 2000, the United States began a high-level effort to persuade Pakistan to use its influence over the Taliban. In January 2000, Assistant Secretary of State Karl Inderfurth and the State Department's counterterrorism coordinator, Michael Sheehan, met with General Musharraf in Islamabad, dangling before him the possibility of a presidential visit in March as a reward for Pakistani cooperation. Such a visit was coveted by Musharraf, partly as a sign of his government's legitimacy. He told the two envoys that he would meet with Mullah Omar and press him on  Bin Laden. They left, however, reporting to Washington that Pakistan was unlikely in fact to do anything,\" given what it sees as the benefits of Taliban control of Afghanistan.\" President Clinton was scheduled to travel to India. The State Department felt that he should not visit India without also visiting Pakistan. The Secret Service and the CIA, however, warned in the strongest terms that visiting Pakistan would risk the President's life. Counterterrorism officials also argued that Pakistan had not done enough to merit a presidential visit. But President Clinton insisted on including Pakistan in the itinerary for his trip to South Asia. His one-day stopover on March 25, 2000, was the first time a U.S. president had been there since 1969. At his meeting with Musharraf and others, President Clinton concentrated on tensions between Pakistan and India and the dangers of nuclear proliferation, but also discussed  Bin Laden. President Clinton told us that when he pulled Musharraf aside for a brief, one-on-one meeting, he pleaded with the general for help regarding  Bin Laden.\" I offered him the moon when I went to see him, in terms of better relations with the United States, if he'd help us get  Bin Laden and deal with another issue or two.\" The U.S. effort continued. \n",
      "Question: Who met with Musharraf to discuss the issues of Pakistan cooperation with the U.S.?\n",
      "Response: CIA\n",
      "Answer:False\n",
      "\n",
      "Paragraph: The film opens with Sunita , a medical student , and her friends working on a project about the human brain .  She wants to investigate the curious case of Sanjay Singhania , a notable city businessman , who is reported to have anterograde amnesia .  Her professor denies access to Sanjay's records as it is currently under criminal investigation .  Sunita , nonetheless , decides to investigate the matter herself .  Sanjay is introduced as he brutally murders a man .  He takes a Polaroid picture of the man , and writes on it `` done '' .  It is revealed that Sanjay has anterograde amnesia where he loses his memory every 15 minutes .  Sanjay uses a system of photographs , notes , and tattoos on his body to recover his memory after each cycle .  It is revealed that Sanjay is ultimately out to avenge the death of his sweetheart Kalpana , and that he is systematically killing the people who were responsible for it .  His main target is `` Ghajini '' , a notable social personality in the city .  Police Inspector Arjun Yadav , on the case of the serial murders , tracks Sanjay down to his flat and attacks and disables him .  Yadav finds two diaries where Sanjay has chronicled the events of 2005 and 2006 .  The film flashes back to 2005 as Yadav reads the diary .  Sanjay Singhania is shown as the owner of the Air Voice mobile telephone company .  In the course of his business , Sanjay sends his men to meet Kalpana , a struggling model , about putting up a billboard above her apartment .  The owner of Kalpana's advertising firm misinterprets this as a romantic advance , and in view of a possible lucrative Air Voice ad campaign and other benefits , encourages Kalpana to accept the overture . \n",
      "Question: Why does Sunita's professor deny her access to records on Sanjay Singhania?\n",
      "Response: Since the records are under investigation\n",
      "Answer:\n",
      "____________________________________________________________________________________________________\n",
      "Paragraph: Alexander II's death caused a great setback for the reform movement. One of his last ideas was to draft plans for an elected parliament, or Duma, which were completed the day before he died but not yet released to the Russian people. In a matter of 48 hours, Alexander II planned to release his plan for the duma to the Russian people. Had he lived, Russia might have followed a path to constitutional monarchy instead of the long road of oppression that defined his successor's reign. The first action Alexander III took after his father's death was to tear up those plans. A Duma would not come into fruition until 1905, when Alexander II's grandson, Nicholas II, commissioned the Duma following extreme pressure on the monarchy as a result of the Russian Revolution of 1905. The assassination triggered major suppression of civil liberties in Russia, and police brutality burst back in full force after experiencing some restraint under the reign of Alexander II, whose death was witnessed first-hand by his son, Alexander III, and his grandson, Nicholas II, both future emperors who vowed not to have the same fate befall them. Both of them used the Okhrana to arrest protestors and uproot suspected rebel groups, creating further suppression of personal freedom for the Russian people. A series of anti-Jewish pogroms and antisemitic legislation, the May Laws, were yet another result. Finally, the tsar's assassination also inspired anarchists to advocate \"'propaganda by deed'--the use of a spectacular act of violence to incite revolution.\" With construction starting in 1883, the Church of the Savior on Blood was built on the site of Alexander's assassination and dedicated in his memory. \n",
      "Question: How many years passed between the fruition of the Duma and the beginning of the construction of the Church of the Savior on Blood?\n",
      "Response: 5 years\n",
      "Answer:False\n",
      "\n",
      "Paragraph: While this process moved along, diplomacy continued its rounds. Direct pressure on the Taliban had proved unsuccessful. As one NSC staff note put it, \"Under the Taliban, Afghanistan is not so much a state sponsor of terrorism as it is a state sponsored by terrorists.\" In early 2000, the United States began a high-level effort to persuade Pakistan to use its influence over the Taliban. In January 2000, Assistant Secretary of State Karl Inderfurth and the State Department's counterterrorism coordinator, Michael Sheehan, met with General Musharraf in Islamabad, dangling before him the possibility of a presidential visit in March as a reward for Pakistani cooperation. Such a visit was coveted by Musharraf, partly as a sign of his government's legitimacy. He told the two envoys that he would meet with Mullah Omar and press him on  Bin Laden. They left, however, reporting to Washington that Pakistan was unlikely in fact to do anything,\" given what it sees as the benefits of Taliban control of Afghanistan.\" President Clinton was scheduled to travel to India. The State Department felt that he should not visit India without also visiting Pakistan. The Secret Service and the CIA, however, warned in the strongest terms that visiting Pakistan would risk the President's life. Counterterrorism officials also argued that Pakistan had not done enough to merit a presidential visit. But President Clinton insisted on including Pakistan in the itinerary for his trip to South Asia. His one-day stopover on March 25, 2000, was the first time a U.S. president had been there since 1969. At his meeting with Musharraf and others, President Clinton concentrated on tensions between Pakistan and India and the dangers of nuclear proliferation, but also discussed  Bin Laden. President Clinton told us that when he pulled Musharraf aside for a brief, one-on-one meeting, he pleaded with the general for help regarding  Bin Laden.\" I offered him the moon when I went to see him, in terms of better relations with the United States, if he'd help us get  Bin Laden and deal with another issue or two.\" The U.S. effort continued. \n",
      "Question: Who met with Musharraf to discuss the issues of Pakistan cooperation with the U.S.?\n",
      "Response: CIA\n",
      "Answer:False\n",
      "\n",
      "Paragraph: The film opens with Sunita , a medical student , and her friends working on a project about the human brain .  She wants to investigate the curious case of Sanjay Singhania , a notable city businessman , who is reported to have anterograde amnesia .  Her professor denies access to Sanjay's records as it is currently under criminal investigation .  Sunita , nonetheless , decides to investigate the matter herself .  Sanjay is introduced as he brutally murders a man .  He takes a Polaroid picture of the man , and writes on it `` done '' .  It is revealed that Sanjay has anterograde amnesia where he loses his memory every 15 minutes .  Sanjay uses a system of photographs , notes , and tattoos on his body to recover his memory after each cycle .  It is revealed that Sanjay is ultimately out to avenge the death of his sweetheart Kalpana , and that he is systematically killing the people who were responsible for it .  His main target is `` Ghajini '' , a notable social personality in the city .  Police Inspector Arjun Yadav , on the case of the serial murders , tracks Sanjay down to his flat and attacks and disables him .  Yadav finds two diaries where Sanjay has chronicled the events of 2005 and 2006 .  The film flashes back to 2005 as Yadav reads the diary .  Sanjay Singhania is shown as the owner of the Air Voice mobile telephone company .  In the course of his business , Sanjay sends his men to meet Kalpana , a struggling model , about putting up a billboard above her apartment .  The owner of Kalpana's advertising firm misinterprets this as a romantic advance , and in view of a possible lucrative Air Voice ad campaign and other benefits , encourages Kalpana to accept the overture . \n",
      "Question: Why does Sunita's professor deny her access to records on Sanjay Singhania?\n",
      "Response: Becuase it is currently under criminal investigation\n",
      "Answer:\n",
      "____________________________________________________________________________________________________\n",
      "Paragraph: Alexander II's death caused a great setback for the reform movement. One of his last ideas was to draft plans for an elected parliament, or Duma, which were completed the day before he died but not yet released to the Russian people. In a matter of 48 hours, Alexander II planned to release his plan for the duma to the Russian people. Had he lived, Russia might have followed a path to constitutional monarchy instead of the long road of oppression that defined his successor's reign. The first action Alexander III took after his father's death was to tear up those plans. A Duma would not come into fruition until 1905, when Alexander II's grandson, Nicholas II, commissioned the Duma following extreme pressure on the monarchy as a result of the Russian Revolution of 1905. The assassination triggered major suppression of civil liberties in Russia, and police brutality burst back in full force after experiencing some restraint under the reign of Alexander II, whose death was witnessed first-hand by his son, Alexander III, and his grandson, Nicholas II, both future emperors who vowed not to have the same fate befall them. Both of them used the Okhrana to arrest protestors and uproot suspected rebel groups, creating further suppression of personal freedom for the Russian people. A series of anti-Jewish pogroms and antisemitic legislation, the May Laws, were yet another result. Finally, the tsar's assassination also inspired anarchists to advocate \"'propaganda by deed'--the use of a spectacular act of violence to incite revolution.\" With construction starting in 1883, the Church of the Savior on Blood was built on the site of Alexander's assassination and dedicated in his memory. \n",
      "Question: How many years passed between the fruition of the Duma and the beginning of the construction of the Church of the Savior on Blood?\n",
      "Response: 5 years\n",
      "Answer:False\n",
      "\n",
      "Paragraph: While this process moved along, diplomacy continued its rounds. Direct pressure on the Taliban had proved unsuccessful. As one NSC staff note put it, \"Under the Taliban, Afghanistan is not so much a state sponsor of terrorism as it is a state sponsored by terrorists.\" In early 2000, the United States began a high-level effort to persuade Pakistan to use its influence over the Taliban. In January 2000, Assistant Secretary of State Karl Inderfurth and the State Department's counterterrorism coordinator, Michael Sheehan, met with General Musharraf in Islamabad, dangling before him the possibility of a presidential visit in March as a reward for Pakistani cooperation. Such a visit was coveted by Musharraf, partly as a sign of his government's legitimacy. He told the two envoys that he would meet with Mullah Omar and press him on  Bin Laden. They left, however, reporting to Washington that Pakistan was unlikely in fact to do anything,\" given what it sees as the benefits of Taliban control of Afghanistan.\" President Clinton was scheduled to travel to India. The State Department felt that he should not visit India without also visiting Pakistan. The Secret Service and the CIA, however, warned in the strongest terms that visiting Pakistan would risk the President's life. Counterterrorism officials also argued that Pakistan had not done enough to merit a presidential visit. But President Clinton insisted on including Pakistan in the itinerary for his trip to South Asia. His one-day stopover on March 25, 2000, was the first time a U.S. president had been there since 1969. At his meeting with Musharraf and others, President Clinton concentrated on tensions between Pakistan and India and the dangers of nuclear proliferation, but also discussed  Bin Laden. President Clinton told us that when he pulled Musharraf aside for a brief, one-on-one meeting, he pleaded with the general for help regarding  Bin Laden.\" I offered him the moon when I went to see him, in terms of better relations with the United States, if he'd help us get  Bin Laden and deal with another issue or two.\" The U.S. effort continued. \n",
      "Question: Who met with Musharraf to discuss the issues of Pakistan cooperation with the U.S.?\n",
      "Response: CIA\n",
      "Answer:False\n",
      "\n",
      "Paragraph: The film opens with Sunita , a medical student , and her friends working on a project about the human brain .  She wants to investigate the curious case of Sanjay Singhania , a notable city businessman , who is reported to have anterograde amnesia .  Her professor denies access to Sanjay's records as it is currently under criminal investigation .  Sunita , nonetheless , decides to investigate the matter herself .  Sanjay is introduced as he brutally murders a man .  He takes a Polaroid picture of the man , and writes on it `` done '' .  It is revealed that Sanjay has anterograde amnesia where he loses his memory every 15 minutes .  Sanjay uses a system of photographs , notes , and tattoos on his body to recover his memory after each cycle .  It is revealed that Sanjay is ultimately out to avenge the death of his sweetheart Kalpana , and that he is systematically killing the people who were responsible for it .  His main target is `` Ghajini '' , a notable social personality in the city .  Police Inspector Arjun Yadav , on the case of the serial murders , tracks Sanjay down to his flat and attacks and disables him .  Yadav finds two diaries where Sanjay has chronicled the events of 2005 and 2006 .  The film flashes back to 2005 as Yadav reads the diary .  Sanjay Singhania is shown as the owner of the Air Voice mobile telephone company .  In the course of his business , Sanjay sends his men to meet Kalpana , a struggling model , about putting up a billboard above her apartment .  The owner of Kalpana's advertising firm misinterprets this as a romantic advance , and in view of a possible lucrative Air Voice ad campaign and other benefits , encourages Kalpana to accept the overture . \n",
      "Question: Why does Sunita's professor deny her access to records on Sanjay Singhania?\n",
      "Response: Anterograde amnesia\n",
      "Answer:\n",
      "____________________________________________________________________________________________________\n"
     ]
    }
   ],
   "source": [
    "ex = 4\n",
    "dd = d1['dev'].filter(lambda example: example['question']==ex)\n",
    "print(dd)\n",
    "for i in range(dd.num_rows):\n",
    "    print(dd['input'][i])\n",
    "    print(f\"{''.join(['_']*100)}\")\n"
   ]
  },
  {
   "cell_type": "code",
   "execution_count": null,
   "metadata": {},
   "outputs": [
    {
     "name": "stderr",
     "output_type": "stream",
     "text": [
      "Downloading data files: 100%|██████████| 6/6 [00:00<00:00, 21694.68it/s]\n",
      "Extracting data files: 100%|██████████| 6/6 [00:00<00:00, 2016.65it/s]\n",
      "Generating 0_shot split: 50 examples [00:00, 10128.72 examples/s]\n",
      "Generating 1_shot split: 50 examples [00:00, 11395.09 examples/s]\n",
      "Generating 2_shot split: 50 examples [00:00, 15454.33 examples/s]\n",
      "Generating 3_shot split: 50 examples [00:00, 6900.12 examples/s]\n",
      "Generating 4_shot split: 50 examples [00:00, 6682.87 examples/s]\n",
      "Generating 5_shot split: 50 examples [00:00, 6888.78 examples/s]\n"
     ]
    }
   ],
   "source": [
    "from datasets import DatasetDict, Dataset\n",
    "from collections import defaultdict\n",
    "\n",
    "fname_dict = {}\n",
    "for n_shot in range(6):\n",
    "    fname_dict[f\"{n_shot}_shot\"] = f\"multirc-data/{n_shot}_shot_examples.json\"\n",
    "# data_all = defaultdict(DatasetDict)\n",
    "d_upload = load_dataset(\"json\", data_files=fname_dict)\n",
    "    # data_all[f\"n_shot = {n_shot}\"] = d1['dev']\n"
   ]
  },
  {
   "cell_type": "code",
   "execution_count": null,
   "metadata": {},
   "outputs": [
    {
     "name": "stderr",
     "output_type": "stream",
     "text": [
      "Creating parquet from Arrow format: 100%|██████████| 1/1 [00:00<00:00, 677.48ba/s]\n",
      "Uploading the dataset shards: 100%|██████████| 1/1 [00:01<00:00,  1.08s/it]\n",
      "Creating parquet from Arrow format: 100%|██████████| 1/1 [00:00<00:00, 685.23ba/s]\n",
      "Uploading the dataset shards: 100%|██████████| 1/1 [00:00<00:00,  1.22it/s]\n",
      "Creating parquet from Arrow format: 100%|██████████| 1/1 [00:00<00:00, 362.36ba/s]\n",
      "Uploading the dataset shards: 100%|██████████| 1/1 [00:00<00:00,  1.30it/s]\n",
      "Creating parquet from Arrow format: 100%|██████████| 1/1 [00:00<00:00, 549.64ba/s]\n",
      "Uploading the dataset shards: 100%|██████████| 1/1 [00:00<00:00,  1.02it/s]\n",
      "Creating parquet from Arrow format: 100%|██████████| 1/1 [00:00<00:00, 574.48ba/s]\n",
      "Uploading the dataset shards: 100%|██████████| 1/1 [00:00<00:00,  1.27it/s]\n",
      "Creating parquet from Arrow format: 100%|██████████| 1/1 [00:00<00:00, 347.64ba/s]\n",
      "Uploading the dataset shards: 100%|██████████| 1/1 [00:00<00:00,  1.12it/s]\n"
     ]
    }
   ],
   "source": [
    "# print(Dataset.from_dict(data_all))\n",
    "# Dataset.from_dict(data_all).push_to_hub(\"hassansh/boolq_n_shot\")\n",
    "d_upload.push_to_hub(\"hassansh/multirc_n_shot\")\n"
   ]
  },
  {
   "cell_type": "code",
   "execution_count": null,
   "metadata": {},
   "outputs": [
    {
     "name": "stdout",
     "output_type": "stream",
     "text": [
      "Dataset({\n",
      "    features: ['question', 'input', 'target_str', 'target'],\n",
      "    num_rows: 50\n",
      "})\n"
     ]
    }
   ],
   "source": [
    "# print(d_upload['5_shot'][2]['input'])\n",
    "d_test = load_dataset(\"hassansh/multirc_n_shot\",name = \"2_shot\")['test']\n",
    "print(d_test)"
   ]
  },
  {
   "cell_type": "code",
   "execution_count": null,
   "metadata": {},
   "outputs": [],
   "source": [
    "disable_progress_bar()\n",
    "\n",
    "num_paragraphs = 0\n",
    "for i in range(d_test.num_rows):\n",
    "    if d_test.filter(lambda example: example['question']==i):\n",
    "        num_paragraphs += 1\n",
    "    else:\n",
    "        break\n",
    "\n",
    "enable_progress_bar()\n"
   ]
  },
  {
   "cell_type": "code",
   "execution_count": null,
   "metadata": {},
   "outputs": [
    {
     "name": "stdout",
     "output_type": "stream",
     "text": [
      "10\n"
     ]
    }
   ],
   "source": [
    "print(num_paragraphs)"
   ]
  },
  {
   "cell_type": "code",
   "execution_count": null,
   "metadata": {},
   "outputs": [],
   "source": []
  }
 ],
 "metadata": {
  "kernelspec": {
   "display_name": "pytorch",
   "language": "python",
   "name": "python3"
  },
  "language_info": {
   "codemirror_mode": {
    "name": "ipython",
    "version": 3
   },
   "file_extension": ".py",
   "mimetype": "text/x-python",
   "name": "python",
   "nbconvert_exporter": "python",
   "pygments_lexer": "ipython3",
   "version": "3.10.12"
  },
  "orig_nbformat": 4
 },
 "nbformat": 4,
 "nbformat_minor": 2
}
