{
 "cells": [
  {
   "cell_type": "code",
   "execution_count": 7,
   "metadata": {},
   "outputs": [
    {
     "ename": "FileNotFoundError",
     "evalue": "[Errno 2] No such file or directory: 'cossim_results/Mistral-2-7b-hf/num_layer_1/Mistral-2-7b-hf/num_layer_2'",
     "output_type": "error",
     "traceback": [
      "\u001b[0;31m---------------------------------------------------------------------------\u001b[0m",
      "\u001b[0;31mFileNotFoundError\u001b[0m                         Traceback (most recent call last)",
      "Cell \u001b[0;32mIn[7], line 12\u001b[0m\n\u001b[1;32m     10\u001b[0m \u001b[39mif\u001b[39;00m os\u001b[39m.\u001b[39mpath\u001b[39m.\u001b[39mexists(out_path):\n\u001b[1;32m     11\u001b[0m     shutil\u001b[39m.\u001b[39mrmtree(out_path)\n\u001b[0;32m---> 12\u001b[0m os\u001b[39m.\u001b[39;49mmkdir(out_path)\n\u001b[1;32m     14\u001b[0m \u001b[39m# out =   f\"shots_{num_shots}\"\u001b[39;00m\n\u001b[1;32m     15\u001b[0m \u001b[39m# out_dir = os.path.join(out_path, out)\u001b[39;00m\n\u001b[1;32m     16\u001b[0m \u001b[39m# # delete if dir already exists\u001b[39;00m\n\u001b[1;32m     17\u001b[0m \u001b[39m# if os.path.exists(out_dir):\u001b[39;00m\n\u001b[1;32m     18\u001b[0m \u001b[39m#     shutil.rmtree(out_dir)\u001b[39;00m\n\u001b[1;32m     19\u001b[0m \u001b[39m# os.mkdir(out_dir)\u001b[39;00m\n",
      "\u001b[0;31mFileNotFoundError\u001b[0m: [Errno 2] No such file or directory: 'cossim_results/Mistral-2-7b-hf/num_layer_1/Mistral-2-7b-hf/num_layer_2'"
     ]
    }
   ],
   "source": [
    "import os, shutil\n",
    "model_name = \"meta-llama/Mistral-2-7b-hf\"\n",
    "\n",
    "num_shots = 0\n",
    "out_path_orig = \"cossim_results\"\n",
    "for num_layer_dropped in range(1,26):\n",
    "    out_prefix = f\"{model_name.split('/')[-1]}/num_layer_{num_layer_dropped}\"\n",
    "    # out_path = out_path+ out_prefix\n",
    "    out_path = os.path.join(out_path_orig, out_prefix)\n",
    "    if os.path.exists(out_path):\n",
    "        shutil.rmtree(out_path)\n",
    "    os.mkdir(out_path)\n",
    "    \n",
    "    # out =   f\"shots_{num_shots}\"\n",
    "    # out_dir = os.path.join(out_path, out)\n",
    "    # # delete if dir already exists\n",
    "    # if os.path.exists(out_dir):\n",
    "    #     shutil.rmtree(out_dir)\n",
    "    # os.mkdir(out_dir)\n"
   ]
  }
 ],
 "metadata": {
  "kernelspec": {
   "display_name": "pytorch",
   "language": "python",
   "name": "python3"
  },
  "language_info": {
   "codemirror_mode": {
    "name": "ipython",
    "version": 3
   },
   "file_extension": ".py",
   "mimetype": "text/x-python",
   "name": "python",
   "nbconvert_exporter": "python",
   "pygments_lexer": "ipython3",
   "version": "3.10.12"
  },
  "orig_nbformat": 4
 },
 "nbformat": 4,
 "nbformat_minor": 2
}
