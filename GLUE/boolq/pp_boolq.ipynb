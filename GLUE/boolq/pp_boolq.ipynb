{
 "cells": [
  {
   "cell_type": "code",
   "execution_count": 8,
   "metadata": {},
   "outputs": [],
   "source": [
    "import matplotlib.pyplot as plt\n",
    "import json\n",
    "import numpy as np\n",
    "import os"
   ]
  },
  {
   "cell_type": "code",
   "execution_count": 76,
   "metadata": {},
   "outputs": [
    {
     "data": {
      "image/png": "[encoded data removed]",
      "text/plain": [
       "<Figure size 640x480 with 1 Axes>"
      ]
     },
     "metadata": {},
     "output_type": "display_data"
    }
   ],
   "source": [
    "\n",
    "num_shots = 0\n",
    "def file_reader(out_dir, model_name, n_list, cossim= True):\n",
    "    acc = []\n",
    "    if cossim:\n",
    "        # out_dir = \"cossim_results/\"\n",
    "        out_dir += f\"{model_name.split('/')[-1]}/\"\n",
    "        for num_layer_dropped in n_list:\n",
    "            file_dir = out_dir+ f\"num_ldrop_{num_layer_dropped}_shots_{num_shots}/\"\n",
    "            fname = file_dir+ \"accuracy.json\"\n",
    "\n",
    "            if os.path.exists(fname):\n",
    "                f = open(fname)\n",
    "                data = json.load(f)\n",
    "                f.close()\n",
    "                acc.append(data)\n",
    "            else:\n",
    "                acc.append(0)\n",
    "    else:\n",
    "        # out_dir = \"results/\"\n",
    "        out_dir += f\"{model_name.split('/')[-1]}/\"\n",
    "        for num_layer_dropped in n_list:\n",
    "            first_layer_dropped = depth - num_layer_dropped -1\n",
    "            file_dir =  out_dir + f\"num_ldrop_{first_layer_dropped}_shots_{num_shots}/\"\n",
    "            fname = file_dir+ \"accuracy.json\"\n",
    "\n",
    "            if os.path.exists(fname):\n",
    "                f = open(fname)\n",
    "                data = json.load(f)\n",
    "                f.close()\n",
    "                acc.append(data)\n",
    "            else:\n",
    "                acc.append(0)\n",
    "    \n",
    "    return acc\n",
    "\n",
    "\n",
    "# model_name = \"mistralai/Mistral-7B-v0.1\"\n",
    "model_name = \"meta-llama/Llama-2-70b-hf\"\n",
    "depth = 80\n",
    "n_list = np.arange(2,int(0.8*depth)+1,4)\n",
    "\n",
    "out_dir = \"cossim_results_no_prompt/\"\n",
    "acc_cs = file_reader(out_dir, model_name, n_list)\n",
    "# out_dir = \"results/\"\n",
    "out_dir = \"results/\"\n",
    "acc = file_reader(out_dir, model_name, n_list, cossim= False)\n",
    "\n",
    "\n",
    "boolq_accs_llama2_70B = np.array([0.8550267885282068, 0.8555783170501102, 0.8558146864166404, 0.850141821619918, 0.8474629687992437, 0.8525055152852189, 0.8495902930980146, 0.8491175543649543, 0.760163882760794, 0.7799401197604791, 0.8271352032776552, 0.6910652379451623, 0.6935865111881502, 0.6809013551843681, 0.6216514339741569, 0.603135833595966])\n",
    "layers_removed_llama2_70B = 79 - np.array([78, 74, 70, 66, 62, 58, 54, 50, 46, 42, 38, 34, 30, 26, 22, 18])\n",
    "\n",
    "plt.plot(n_list/depth, acc_cs, \".-\", label = \"cos informed\")\n",
    "plt.plot(layers_removed_llama2_70B/depth, boolq_accs_llama2_70B, \".-\",label=\"old method\")\n",
    "# plt.plot(n_list/depth, acc, \".-\")\n",
    "plt.show()"
   ]
  },
  {
   "cell_type": "code",
   "execution_count": 50,
   "metadata": {},
   "outputs": [
    {
     "data": {
      "text/plain": [
       "[73, 69, 65, 61, 57, 53, 49, 45, 41, 37, 33, 29, 25, 21, 17]"
      ]
     },
     "execution_count": 50,
     "metadata": {},
     "output_type": "execute_result"
    }
   ],
   "source": [
    "list(range(73,15,-4))"
   ]
  },
  {
   "cell_type": "code",
   "execution_count": null,
   "metadata": {},
   "outputs": [],
   "source": []
  }
 ],
 "metadata": {
  "kernelspec": {
   "display_name": "pytorch",
   "language": "python",
   "name": "python3"
  },
  "language_info": {
   "codemirror_mode": {
    "name": "ipython",
    "version": 3
   },
   "file_extension": ".py",
   "mimetype": "text/x-python",
   "name": "python",
   "nbconvert_exporter": "python",
   "pygments_lexer": "ipython3",
   "version": "3.10.12"
  },
  "orig_nbformat": 4
 },
 "nbformat": 4,
 "nbformat_minor": 2
}
